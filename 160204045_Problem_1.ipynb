{
  "nbformat": 4,
  "nbformat_minor": 0,
  "metadata": {
    "colab": {
      "name": "160204045_Problem#1.ipynb",
      "provenance": [],
      "collapsed_sections": [],
      "toc_visible": true
    },
    "kernelspec": {
      "name": "python3",
      "display_name": "Python 3"
    },
    "accelerator": "GPU"
  },
  "cells": [
    {
      "cell_type": "markdown",
      "metadata": {
        "id": "y4W0JTl2VrwR"
      },
      "source": [
        "# Abstract\r\n",
        "\r\n",
        "In this experiment, we applied logistic regression with different  hyperparameter settings on the dataset NumtaDB. We got testing accuracy of 48% from the best model among four different model."
      ]
    },
    {
      "cell_type": "markdown",
      "metadata": {
        "id": "9u5GO2U79zUL"
      },
      "source": [
        "# Problem Definition\r\n",
        "\r\n",
        "The main objective of this experiment is design a multiclass classification model that can recongnize Bengali handwritten digits with different hyperparameter settings from NumtaDB dataset. "
      ]
    },
    {
      "cell_type": "markdown",
      "metadata": {
        "id": "VfrQL2XGbSfd"
      },
      "source": [
        "# Dataset\r\n",
        "\r\n",
        "NumtaDB is Bengali Handwrittten digits dataset. This dataset is consist of two sub dataset: one is csv file and another is corresponding image dataset. CSV file has several columns and we only consider two columns(filename, digit/label) for our work purpose. The image dataset consist of 54809 grayscale images of 10 classes. We can consider one image in a array of 28\\*28\\*1 \r\n",
        "\r\n",
        "\r\n",
        "**Snapshot from NumtaDB**\r\n",
        "\r\n",
        "\\\\\r\n",
        "<div align=\"center\">\r\n",
        "<img src=\"https://drive.google.com/uc?id=1LvkNwV1My2RniR_JsbasBET1fa97eMQu\" width=\"500\">\r\n",
        "</div>"
      ]
    },
    {
      "cell_type": "markdown",
      "metadata": {
        "id": "B_2AoistDBV-"
      },
      "source": [
        "# WorkFlow of Methodology\r\n",
        "\r\n",
        "I characterize the complete work flow into nine steps.\r\n",
        "\r\n",
        "1. Preprocessing of CSV data and corresponding image data.\r\n",
        "2. Normalize the input data.\r\n",
        "3. Train-Test split.\r\n",
        "4. Setting up hyperparameters.\r\n",
        "5. Initialize Logistic regression model, loss and optimizer.\r\n",
        "6. Training data and evaluation on testing data interms of loss and accuracy.\r\n",
        "7. Save Model.\r\n",
        "8. Build Multiclass classification model\r\n",
        "9. Prediction of digits"
      ]
    },
    {
      "cell_type": "markdown",
      "metadata": {
        "id": "ILG5j8MFcQC3"
      },
      "source": [
        "# Preprocessing of Data\r\n",
        "As earlier said  this dataset is a combination of five dataset.For training we have to merged the training image dataset and then merged the csv dataset. After that i process the image with csv dataset to attach images with labels. We apply normalization using pytorch transform function whih transform the image into tensor from and resize in 28*28 and the apply normalaize function to reduce computing cost during training.$image=(image-mean)/s.deviation$ where the value of mean and standard deviation is 0.5."
      ]
    },
    {
      "cell_type": "markdown",
      "metadata": {
        "id": "oQdrTtL1TvzP"
      },
      "source": [
        "# Logistic Regression\r\n",
        "\r\n",
        "Logistic regression is supervised machine learning classification algorithm.Though it is known as regression but the output of the algorithm is discrete value[0,1]. The goal of logistic regression is to minimize the error between its predictions and training data. This algorithm is pretty similar to linear regression but the difference is in logistic regression there used sigmoid activation function which made the decision boundary curved. As our experiment lies in multinomial logistic regression so we have to use softmax fuction.The difference between softmax and sigmoid is softmax is used for multiclass classification and sigmoid is used for binary classification.\r\n",
        "$$s= \\sigma(w^Tx+b)=\\sigma(z)=\\frac{1}{1+e^{-z}} $$"
      ]
    },
    {
      "cell_type": "markdown",
      "metadata": {
        "id": "M7MArbEQXUPw"
      },
      "source": [
        "# Loss Function and Optimizer\r\n",
        "\r\n",
        "In this experiment, cross entropy loss function is used. It calculates the summation of actual values and log calculation of softmax probabilities. I need not implement this loss function. I select it from Pytorch API.\r\n",
        "\r\n",
        "$$\\ J(w,b)=\\frac{1}{m}\\sum_{i=1}^{m} L(\\bar{y^{i}},{y^i})=-\\frac{1}{m}\\sum_{i=1}^{m}[y^ilog(\\bar{y^i})]$$\r\n",
        "\r\n",
        "\r\n",
        "\r\n",
        "To optimize the loss function i used two types of optimizer:SGD and Adam with different learning rate and number of iteration.\r\n"
      ]
    },
    {
      "cell_type": "markdown",
      "metadata": {
        "id": "mqMvQ4iOJWj0"
      },
      "source": [
        "# Experimental Setup\r\n",
        "\r\n",
        "In this experiment i used pytorch API and google colab with various python packages: numpy, pandas, matplotlib. I got access pytorch version 1.7.0+cu101 with T4 Tesla GPU from colab. It takes more than 4 hour to complete the task."
      ]
    },
    {
      "cell_type": "markdown",
      "metadata": {
        "id": "lVwg_sZHL4TG"
      },
      "source": [
        "# Train-Test Splitting Ratio\r\n",
        "\r\n",
        "The entire dataset is splitted with proportion to 90:10 data are assinged randomly in training and testing data. Training dataset contains 49418 data and test data contains 5490 data."
      ]
    },
    {
      "cell_type": "markdown",
      "metadata": {
        "id": "XRCfq8X4gHoe"
      },
      "source": [
        "# Result Analysis\r\n",
        "\r\n",
        "I tried this experiment with different hyperparameter settings. Here i visualize the best three experimented settings.This models achieved accuracy of 40.74%, 38.61%, 40.38% and 48% respectively. \r\n",
        "\r\n",
        "**Hyper parameter settings**\r\n",
        "\r\n",
        "| Settings 1       | Settings 2      | Settings 3     |  Settings 4  |\r\n",
        "|:-------------    | :------------:  | :-----------:  | ----------:  |\r\n",
        "|L_rate=0.01       | L_rate=0.001    | L_rate=0.0001  |L_rate=0.001  |\r\n",
        "|Optimizer:SGD     | Optimizer:SGD   | Optimizer:Adam |Optimizer:Adam|   \r\n",
        "|Batch_size=100    | Batch_size=100   | Batch_size=100 | Batch_size=100|\r\n",
        "|num_iter=10000    | num_iter=25000   | num_iter=20000 | num_iter=25000|\r\n",
        "|cross_entropy     | cross_entropy    | cross_entropy  |  cross_entropy||\r\n",
        "\r\n"
      ]
    },
    {
      "cell_type": "markdown",
      "metadata": {
        "id": "JqY3tUFo6dp4"
      },
      "source": [
        "# Result Comparison\r\n",
        "\r\n",
        "**Loss Graphs**\r\n",
        "<div align=\"center\">\r\n",
        "<div class=\"column\">\r\n",
        "  <img src=\"https://drive.google.com/uc?id=1HauQJnsh-Za-cxQHTunWc0o0zuyVoz6Q\" width=\"700\">\r\n",
        "  </div>\r\n",
        "  </div>\r\n",
        "\r\n",
        "**Accuracy Graphs**\r\n",
        "  <div align=\"center\">\r\n",
        "<div class=\"column\">\r\n",
        "  <img src=\"https://drive.google.com/uc?id=1ox7DZmbgf7GTYb9G6JxSpu6m5IsmavdI\" width=\"700\">\r\n",
        "  </div>\r\n",
        "  </div>\r\n",
        "\r\n",
        "\r\n",
        "From the loss graphs, we can see the loss curve is decreasing in every loss function and optimizer but the curve is zigzag curve this might cause the loss function tried to achieve local optima. On the other hand the accuracy is increasing gradually but the accuracy is comapartively low because of nonlinear data and the logistic regression function. This accuracy might increase if it is trained on multy layer neural network model.\r\n"
      ]
    },
    {
      "cell_type": "markdown",
      "metadata": {
        "id": "zCHseK-FlBXi"
      },
      "source": [
        "# Implementation/Code"
      ]
    },
    {
      "cell_type": "code",
      "metadata": {
        "id": "xZryf-c7cnhy",
        "colab": {
          "base_uri": "https://localhost:8080/"
        },
        "outputId": "ca65416c-3f15-4e61-9b4b-23313b6b7474"
      },
      "source": [
        "from google.colab import drive\r\n",
        "drive.mount('/content/drive')"
      ],
      "execution_count": null,
      "outputs": [
        {
          "output_type": "stream",
          "text": [
            "Mounted at /content/drive\n"
          ],
          "name": "stdout"
        }
      ]
    },
    {
      "cell_type": "code",
      "metadata": {
        "id": "Y8l9CVZy_dlS"
      },
      "source": [
        "import numpy as np\r\n",
        "import pandas as pd\r\n",
        "import torch\r\n",
        "import torch.nn as nn\r\n",
        "import torch.nn.functional as F\r\n",
        "import torch.optim as optim\r\n",
        "from torch.utils.data import Dataset\r\n",
        "from torch.utils.data.sampler import SubsetRandomSampler\r\n",
        "from torchvision import datasets, transforms, models\r\n",
        "import matplotlib\r\n",
        "import matplotlib.pyplot as plt\r\n",
        "from PIL import Image"
      ],
      "execution_count": null,
      "outputs": []
    },
    {
      "cell_type": "code",
      "metadata": {
        "colab": {
          "base_uri": "https://localhost:8080/"
        },
        "id": "6-0GgeDiLLXY",
        "outputId": "67cf08e4-9959-49c6-c89b-2e7aec6e293b"
      },
      "source": [
        "print(torch.__version__)\r\n",
        "\r\n",
        "print(torch.cuda.get_device_name())"
      ],
      "execution_count": null,
      "outputs": [
        {
          "output_type": "stream",
          "text": [
            "1.7.0+cu101\n",
            "Tesla T4\n"
          ],
          "name": "stdout"
        }
      ]
    },
    {
      "cell_type": "code",
      "metadata": {
        "id": "gxOCZvZhLiv2"
      },
      "source": [
        "import os\r\n",
        "import zipfile\r\n",
        "from os import path\r\n",
        "import shutil\r\n",
        "\r\n",
        "local_zip = '/content/drive/MyDrive/numta.zip'\r\n",
        "zip_ref = zipfile.ZipFile(local_zip, 'r')\r\n",
        "zip_ref.extractall('/content/drive/MyDrive/namta/namta')\r\n",
        "zip_ref.close()\r\n",
        "\r\n"
      ],
      "execution_count": null,
      "outputs": []
    },
    {
      "cell_type": "code",
      "metadata": {
        "colab": {
          "base_uri": "https://localhost:8080/"
        },
        "id": "9-taVPOU_nXH",
        "outputId": "c4c2b9f0-aaac-4c2d-b8ab-bfcff5709276"
      },
      "source": [
        "import os\r\n",
        "import zipfile\r\n",
        "from os import path\r\n",
        "import shutil\r\n",
        "\r\n",
        "# Define data path\r\n",
        "data_path = '/content/drive/MyDrive/numta/numta/'\r\n",
        "data_dir_list = os.listdir(data_path)\r\n",
        "print(data_dir_list)"
      ],
      "execution_count": null,
      "outputs": [
        {
          "output_type": "stream",
          "text": [
            "['training-a', 'training-a.csv', 'training-c', 'training-c.csv', 'training-d', 'training-d.csv']\n"
          ],
          "name": "stdout"
        }
      ]
    },
    {
      "cell_type": "code",
      "metadata": {
        "id": "iT1q3Oxv__B6"
      },
      "source": [
        "def showRawTrainingSamples(csv_filename):\r\n",
        "  df = pd.read_csv(data_path + csv_filename)\r\n",
        "  print(csv_filename)\r\n",
        "  print(df.columns)\r\n",
        "  return df"
      ],
      "execution_count": null,
      "outputs": []
    },
    {
      "cell_type": "code",
      "metadata": {
        "colab": {
          "base_uri": "https://localhost:8080/"
        },
        "id": "A5ThaQ-EACob",
        "outputId": "1d08e09f-0dc9-4762-b9a2-9ebe75a8ee31"
      },
      "source": [
        "a_csv = showRawTrainingSamples('training-a.csv')\r\n",
        "c_csv = showRawTrainingSamples('training-c.csv')\r\n",
        "d_csv = showRawTrainingSamples('training-d.csv')"
      ],
      "execution_count": null,
      "outputs": [
        {
          "output_type": "stream",
          "text": [
            "training-a.csv\n",
            "Index(['filename', 'original filename', 'scanid', 'digit',\n",
            "       'database name original', 'contributing team', 'database name'],\n",
            "      dtype='object')\n",
            "training-c.csv\n",
            "Index(['filename', 'original filename', 'scanid', 'digit',\n",
            "       'database name original', 'contributing team', 'database name'],\n",
            "      dtype='object')\n",
            "training-d.csv\n",
            "Index(['original filename', 'scanid', 'digit', 'num', 'database name original',\n",
            "       'database name', 'filename'],\n",
            "      dtype='object')\n"
          ],
          "name": "stdout"
        }
      ]
    },
    {
      "cell_type": "code",
      "metadata": {
        "id": "tcgnb3bnAnID"
      },
      "source": [
        "def dropColumns(csv_file):\r\n",
        "  csv_file = csv_file[['filename', 'digit']]\r\n",
        "  print(csv_file)\r\n",
        "  print(csv_file.iloc[:5, :])   #First 5 Rows of the CSV File\r\n",
        "  print(\"=============================\")\r\n",
        "  return csv_file"
      ],
      "execution_count": null,
      "outputs": []
    },
    {
      "cell_type": "code",
      "metadata": {
        "colab": {
          "base_uri": "https://localhost:8080/"
        },
        "id": "XeMIK4waAp-L",
        "outputId": "aef224b2-6dad-405d-dd56-ecfca44f67cd"
      },
      "source": [
        "a_csv = dropColumns(a_csv)\r\n",
        "c_csv = dropColumns(c_csv)\r\n",
        "d_csv = dropColumns(d_csv)"
      ],
      "execution_count": null,
      "outputs": [
        {
          "output_type": "stream",
          "text": [
            "         filename  digit\n",
            "0      a00000.png      5\n",
            "1      a00001.png      3\n",
            "2      a00002.png      1\n",
            "3      a00003.png      7\n",
            "4      a00004.png      0\n",
            "...           ...    ...\n",
            "19697  a19697.png      4\n",
            "19698  a19698.png      3\n",
            "19699  a19699.png      8\n",
            "19700  a19700.png      3\n",
            "19701  a19701.png      8\n",
            "\n",
            "[19702 rows x 2 columns]\n",
            "     filename  digit\n",
            "0  a00000.png      5\n",
            "1  a00001.png      3\n",
            "2  a00002.png      1\n",
            "3  a00003.png      7\n",
            "4  a00004.png      0\n",
            "=============================\n",
            "         filename  digit\n",
            "0      c00000.png      6\n",
            "1      c00001.png      1\n",
            "2      c00002.png      3\n",
            "3      c00003.png      2\n",
            "4      c00004.png      7\n",
            "...           ...    ...\n",
            "24293  c24293.png      3\n",
            "24294  c24294.png      2\n",
            "24295  c24295.png      7\n",
            "24296  c24296.png      2\n",
            "24297  c24297.png      7\n",
            "\n",
            "[24298 rows x 2 columns]\n",
            "     filename  digit\n",
            "0  c00000.png      6\n",
            "1  c00001.png      1\n",
            "2  c00002.png      3\n",
            "3  c00003.png      2\n",
            "4  c00004.png      7\n",
            "=============================\n",
            "         filename  digit\n",
            "0      d00000.png      1\n",
            "1      d00001.png      1\n",
            "2      d00002.png      5\n",
            "3      d00003.png      7\n",
            "4      d00004.png      0\n",
            "...           ...    ...\n",
            "10903  d10903.png      8\n",
            "10904  d10904.png      6\n",
            "10905  d10905.png      1\n",
            "10906  d10906.png      6\n",
            "10907  d10907.png      1\n",
            "\n",
            "[10908 rows x 2 columns]\n",
            "     filename  digit\n",
            "0  d00000.png      1\n",
            "1  d00001.png      1\n",
            "2  d00002.png      5\n",
            "3  d00003.png      7\n",
            "4  d00004.png      0\n",
            "=============================\n"
          ],
          "name": "stdout"
        }
      ]
    },
    {
      "cell_type": "code",
      "metadata": {
        "colab": {
          "base_uri": "https://localhost:8080/"
        },
        "id": "ztpAKsIXAtUb",
        "outputId": "f894ecf8-949f-4082-b6d8-3d892dff6717"
      },
      "source": [
        "total_csv = [a_csv, c_csv, d_csv]\r\n",
        "#total_csv = [a_csv,d_csv]\r\n",
        "merged_csv = pd.concat(total_csv)\r\n",
        "print(len(merged_csv))\r\n"
      ],
      "execution_count": null,
      "outputs": [
        {
          "output_type": "stream",
          "text": [
            "54908\n"
          ],
          "name": "stdout"
        }
      ]
    },
    {
      "cell_type": "code",
      "metadata": {
        "colab": {
          "base_uri": "https://localhost:8080/"
        },
        "id": "SNF7uCohAO3O",
        "outputId": "e34f909e-35a8-4f80-eb37-7e0f9f30e173"
      },
      "source": [
        "print(merged_csv)"
      ],
      "execution_count": null,
      "outputs": [
        {
          "output_type": "stream",
          "text": [
            "         filename  digit\n",
            "0      a00000.png      5\n",
            "1      a00001.png      3\n",
            "2      a00002.png      1\n",
            "3      a00003.png      7\n",
            "4      a00004.png      0\n",
            "...           ...    ...\n",
            "10903  d10903.png      8\n",
            "10904  d10904.png      6\n",
            "10905  d10905.png      1\n",
            "10906  d10906.png      6\n",
            "10907  d10907.png      1\n",
            "\n",
            "[54908 rows x 2 columns]\n"
          ],
          "name": "stdout"
        }
      ]
    },
    {
      "cell_type": "code",
      "metadata": {
        "id": "RD7wBT6YA04z"
      },
      "source": [
        "TRAIN_PATH = 'train'\r\n",
        "os.mkdir(TRAIN_PATH)"
      ],
      "execution_count": null,
      "outputs": []
    },
    {
      "cell_type": "code",
      "metadata": {
        "id": "tuF1U3CNA3Uc"
      },
      "source": [
        "def processImages(folder_name):\r\n",
        "  src = data_path + folder_name + '/'\r\n",
        "  dir_folders = os.listdir(src)\r\n",
        "  for dir_name in dir_folders:\r\n",
        "    file_name = os.path.join(src, dir_name)\r\n",
        "    if os.path.isfile(file_name):\r\n",
        "      shutil.copy(file_name, TRAIN_PATH)  "
      ],
      "execution_count": null,
      "outputs": []
    },
    {
      "cell_type": "code",
      "metadata": {
        "colab": {
          "base_uri": "https://localhost:8080/"
        },
        "id": "DEXhZo6fA5cm",
        "outputId": "e3754319-761b-4deb-b15f-0c8a23de995f"
      },
      "source": [
        "processImages('training-a')\r\n",
        "print('A Done')\r\n",
        "processImages('training-c')\r\n",
        "print('C Done')\r\n",
        "processImages('training-d')\r\n",
        "print('D Done')"
      ],
      "execution_count": null,
      "outputs": [
        {
          "output_type": "stream",
          "text": [
            "A Done\n",
            "C Done\n",
            "D Done\n"
          ],
          "name": "stdout"
        }
      ]
    },
    {
      "cell_type": "code",
      "metadata": {
        "id": "vwXthbtTBOpb"
      },
      "source": [
        "class Dataset(Dataset):\r\n",
        "    def __init__(self, df, root, transform=None):\r\n",
        "        self.data = df\r\n",
        "        self.root = root\r\n",
        "        self.transform = transform\r\n",
        "        \r\n",
        "    def __len__(self):\r\n",
        "        return len(self.data)\r\n",
        "    \r\n",
        "    def __getitem__(self, index):\r\n",
        "        item = self.data.iloc[index]\r\n",
        "        \r\n",
        "        path = self.root + \"/\" + item[0]\r\n",
        "        image = Image.open(path).convert('L')\r\n",
        "        label = item[1]\r\n",
        "        \r\n",
        "        if self.transform is not None:\r\n",
        "            image = self.transform(image)\r\n",
        "            \r\n",
        "        return image, label"
      ],
      "execution_count": null,
      "outputs": []
    },
    {
      "cell_type": "code",
      "metadata": {
        "colab": {
          "base_uri": "https://localhost:8080/"
        },
        "id": "iAYAYu9SDGqt",
        "outputId": "046f5494-0ed6-4522-ba4a-1d151ef1d855"
      },
      "source": [
        "mean = [0.5,]\r\n",
        "std = [0.5, ]\r\n",
        "\r\n",
        "train_transform = transforms.Compose([\r\n",
        "    transforms.Resize(28),\r\n",
        "    transforms.ToTensor(),\r\n",
        "    transforms.Normalize(mean, std)\r\n",
        "])\r\n",
        "\r\n",
        "test_transform = transforms.Compose([\r\n",
        "        transforms.Resize(28),\r\n",
        "        transforms.ToTensor(),\r\n",
        "        transforms.Normalize(mean, std)\r\n",
        "])\r\n",
        "\r\n",
        "train_data  = Dataset(merged_csv, TRAIN_PATH, train_transform)\r\n",
        "test_data = Dataset(merged_csv, TRAIN_PATH, test_transform)\r\n",
        "\r\n",
        "print(\"Trainig Samples: \",len(train_data))"
      ],
      "execution_count": null,
      "outputs": [
        {
          "output_type": "stream",
          "text": [
            "Trainig Samples:  54908\n"
          ],
          "name": "stdout"
        }
      ]
    },
    {
      "cell_type": "code",
      "metadata": {
        "colab": {
          "base_uri": "https://localhost:8080/"
        },
        "id": "DcJ2V48mFSXV",
        "outputId": "141ee4db-4e99-4cb3-9663-4955651053a4"
      },
      "source": [
        "train_data[50]"
      ],
      "execution_count": null,
      "outputs": [
        {
          "output_type": "execute_result",
          "data": {
            "text/plain": [
              "(tensor([[[0.7804, 0.7804, 0.7804, 0.7882, 0.7804, 0.7804, 0.7804, 0.7804,\n",
              "           0.7804, 0.7725, 0.7804, 0.7804, 0.7804, 0.7804, 0.7882, 0.7804,\n",
              "           0.7804, 0.7804, 0.7804, 0.7804, 0.7882, 0.7804, 0.7882, 0.7882,\n",
              "           0.7804, 0.7804, 0.7882, 0.7725],\n",
              "          [0.7804, 0.7804, 0.7804, 0.7882, 0.7882, 0.7882, 0.7804, 0.7804,\n",
              "           0.7804, 0.7882, 0.7804, 0.7804, 0.7804, 0.7804, 0.7804, 0.7804,\n",
              "           0.7725, 0.7804, 0.7804, 0.7882, 0.7804, 0.7804, 0.7882, 0.7882,\n",
              "           0.7804, 0.7725, 0.7725, 0.7725],\n",
              "          [0.7804, 0.7804, 0.7804, 0.7804, 0.7804, 0.7804, 0.7804, 0.7804,\n",
              "           0.7804, 0.7804, 0.7804, 0.7804, 0.7882, 0.7882, 0.7804, 0.7804,\n",
              "           0.7804, 0.7804, 0.7804, 0.7804, 0.7804, 0.7725, 0.7804, 0.7804,\n",
              "           0.7804, 0.7725, 0.7725, 0.7725],\n",
              "          [0.7804, 0.7804, 0.7804, 0.7804, 0.7804, 0.7804, 0.7804, 0.7804,\n",
              "           0.7804, 0.7804, 0.7725, 0.7804, 0.7804, 0.7804, 0.7804, 0.7804,\n",
              "           0.7804, 0.7804, 0.7804, 0.7804, 0.7804, 0.7725, 0.7725, 0.7804,\n",
              "           0.7804, 0.7725, 0.7725, 0.7725],\n",
              "          [0.7725, 0.7725, 0.7804, 0.7804, 0.7804, 0.7725, 0.7725, 0.7804,\n",
              "           0.7804, 0.7725, 0.7804, 0.7804, 0.7882, 0.7882, 0.7882, 0.7804,\n",
              "           0.7804, 0.7804, 0.7804, 0.7725, 0.7804, 0.7882, 0.7804, 0.7804,\n",
              "           0.7804, 0.7804, 0.7804, 0.7804],\n",
              "          [0.7725, 0.7804, 0.7804, 0.7804, 0.7804, 0.7804, 0.7725, 0.7725,\n",
              "           0.7804, 0.7725, 0.7725, 0.7725, 0.7804, 0.7882, 0.7804, 0.7804,\n",
              "           0.7804, 0.7725, 0.7804, 0.7804, 0.7804, 0.7804, 0.7804, 0.7804,\n",
              "           0.7804, 0.7804, 0.7725, 0.7804],\n",
              "          [0.7804, 0.7804, 0.7804, 0.7725, 0.7804, 0.7725, 0.7490, 0.7725,\n",
              "           0.7804, 0.7804, 0.7882, 0.7804, 0.7804, 0.7804, 0.7804, 0.7804,\n",
              "           0.7725, 0.7725, 0.7725, 0.7804, 0.7725, 0.7804, 0.7804, 0.7804,\n",
              "           0.7804, 0.7804, 0.7725, 0.7725],\n",
              "          [0.7804, 0.7804, 0.7804, 0.7804, 0.7804, 0.6627, 0.3569, 0.6392,\n",
              "           0.7725, 0.7804, 0.7804, 0.7804, 0.7804, 0.7725, 0.7804, 0.7725,\n",
              "           0.7725, 0.7725, 0.7725, 0.7804, 0.7804, 0.7804, 0.7804, 0.7804,\n",
              "           0.7804, 0.7882, 0.7804, 0.7804],\n",
              "          [0.7725, 0.7725, 0.7804, 0.7804, 0.7804, 0.7255, 0.3569, 0.5765,\n",
              "           0.7725, 0.7725, 0.7725, 0.7804, 0.7804, 0.7804, 0.7804, 0.7804,\n",
              "           0.7804, 0.7725, 0.7725, 0.7804, 0.7804, 0.7725, 0.7804, 0.7804,\n",
              "           0.7804, 0.7804, 0.7725, 0.7804],\n",
              "          [0.7725, 0.7725, 0.7804, 0.7725, 0.7725, 0.7725, 0.6706, 0.4118,\n",
              "           0.6471, 0.7647, 0.7804, 0.7804, 0.7804, 0.7804, 0.7804, 0.7804,\n",
              "           0.7804, 0.7725, 0.7725, 0.7804, 0.7804, 0.7804, 0.7804, 0.7804,\n",
              "           0.7804, 0.7725, 0.7804, 0.7725],\n",
              "          [0.7804, 0.7804, 0.7804, 0.7804, 0.7804, 0.7804, 0.7725, 0.6706,\n",
              "           0.4588, 0.6392, 0.7725, 0.7804, 0.7804, 0.7804, 0.7725, 0.7647,\n",
              "           0.7725, 0.7804, 0.7804, 0.7804, 0.7804, 0.7804, 0.7804, 0.7804,\n",
              "           0.7882, 0.7804, 0.7804, 0.7882],\n",
              "          [0.7804, 0.7804, 0.7804, 0.7804, 0.7725, 0.7725, 0.7725, 0.7804,\n",
              "           0.7176, 0.4588, 0.6235, 0.7725, 0.7804, 0.7804, 0.7804, 0.7725,\n",
              "           0.7804, 0.7804, 0.7804, 0.7804, 0.7882, 0.7804, 0.7882, 0.7882,\n",
              "           0.7804, 0.7725, 0.7725, 0.7725],\n",
              "          [0.7804, 0.7804, 0.7804, 0.7804, 0.7804, 0.7804, 0.7804, 0.7725,\n",
              "           0.7647, 0.6863, 0.4353, 0.7255, 0.7804, 0.7804, 0.7804, 0.7804,\n",
              "           0.7725, 0.7725, 0.7804, 0.7804, 0.7882, 0.7882, 0.7882, 0.7804,\n",
              "           0.7804, 0.7804, 0.7804, 0.7804],\n",
              "          [0.7804, 0.7804, 0.7804, 0.7804, 0.7882, 0.7882, 0.7725, 0.5843,\n",
              "           0.4353, 0.5137, 0.3804, 0.7176, 0.7804, 0.7804, 0.7804, 0.7804,\n",
              "           0.7804, 0.7804, 0.7804, 0.7804, 0.7882, 0.7804, 0.7804, 0.7804,\n",
              "           0.7882, 0.7882, 0.7882, 0.7804],\n",
              "          [0.7804, 0.7804, 0.7725, 0.7725, 0.7804, 0.7804, 0.7725, 0.5373,\n",
              "           0.3333, 0.3333, 0.6000, 0.7725, 0.7804, 0.7804, 0.7804, 0.7725,\n",
              "           0.7804, 0.7804, 0.7804, 0.7804, 0.7804, 0.7804, 0.7804, 0.7882,\n",
              "           0.7804, 0.7804, 0.7882, 0.7804],\n",
              "          [0.7882, 0.7804, 0.7804, 0.7804, 0.7804, 0.7804, 0.7804, 0.7725,\n",
              "           0.7569, 0.7569, 0.7725, 0.7804, 0.7804, 0.7804, 0.7804, 0.7804,\n",
              "           0.7804, 0.7725, 0.7725, 0.7882, 0.7804, 0.7882, 0.7882, 0.7804,\n",
              "           0.7804, 0.7725, 0.7804, 0.7725],\n",
              "          [0.7804, 0.7804, 0.7804, 0.7804, 0.7804, 0.7882, 0.7804, 0.7804,\n",
              "           0.7725, 0.7725, 0.7804, 0.7804, 0.7804, 0.7804, 0.7804, 0.7804,\n",
              "           0.7804, 0.7725, 0.7725, 0.7804, 0.7804, 0.7804, 0.7882, 0.7882,\n",
              "           0.7882, 0.7804, 0.7804, 0.7804],\n",
              "          [0.7804, 0.7804, 0.7804, 0.7804, 0.7882, 0.7804, 0.7804, 0.7804,\n",
              "           0.7804, 0.7804, 0.7804, 0.7882, 0.7804, 0.7804, 0.7725, 0.7804,\n",
              "           0.7804, 0.7804, 0.7804, 0.7804, 0.7882, 0.7804, 0.7804, 0.7804,\n",
              "           0.7804, 0.7804, 0.7804, 0.7804],\n",
              "          [0.7882, 0.7882, 0.7882, 0.7882, 0.7882, 0.7882, 0.7804, 0.7882,\n",
              "           0.7882, 0.7882, 0.7804, 0.7804, 0.7882, 0.7882, 0.7804, 0.7804,\n",
              "           0.7804, 0.7725, 0.7804, 0.7725, 0.7882, 0.7882, 0.7882, 0.7961,\n",
              "           0.7882, 0.7804, 0.7804, 0.7804],\n",
              "          [0.7882, 0.7804, 0.7804, 0.7804, 0.7804, 0.7804, 0.7804, 0.7804,\n",
              "           0.7882, 0.7882, 0.7804, 0.7804, 0.7804, 0.7804, 0.7804, 0.7882,\n",
              "           0.7882, 0.7804, 0.7725, 0.7804, 0.7804, 0.7804, 0.7804, 0.7882,\n",
              "           0.7804, 0.7804, 0.7804, 0.7804],\n",
              "          [0.7804, 0.7804, 0.7804, 0.7882, 0.7804, 0.7804, 0.7804, 0.7804,\n",
              "           0.7804, 0.7882, 0.7882, 0.7882, 0.7882, 0.7882, 0.7882, 0.7882,\n",
              "           0.7804, 0.7804, 0.7882, 0.7882, 0.7882, 0.7882, 0.7882, 0.7804,\n",
              "           0.7804, 0.7804, 0.7804, 0.7804],\n",
              "          [0.7804, 0.7804, 0.7804, 0.7882, 0.7804, 0.7804, 0.7804, 0.7804,\n",
              "           0.7804, 0.7804, 0.7804, 0.7882, 0.7882, 0.7804, 0.7804, 0.7882,\n",
              "           0.7804, 0.7804, 0.7882, 0.7882, 0.7882, 0.7882, 0.7882, 0.7882,\n",
              "           0.7804, 0.7804, 0.7804, 0.7804],\n",
              "          [0.7882, 0.7804, 0.7804, 0.7804, 0.7804, 0.7804, 0.7804, 0.7804,\n",
              "           0.7804, 0.7804, 0.7804, 0.7804, 0.7804, 0.7804, 0.7882, 0.7804,\n",
              "           0.7804, 0.7804, 0.7882, 0.7882, 0.7804, 0.7882, 0.7804, 0.7804,\n",
              "           0.7804, 0.7804, 0.7804, 0.7804],\n",
              "          [0.7804, 0.7882, 0.7882, 0.7882, 0.7804, 0.7804, 0.7804, 0.7804,\n",
              "           0.7804, 0.7804, 0.7804, 0.7882, 0.7882, 0.7804, 0.7882, 0.7882,\n",
              "           0.7804, 0.7804, 0.7804, 0.7882, 0.7882, 0.7804, 0.7804, 0.7804,\n",
              "           0.7804, 0.7882, 0.7882, 0.7882],\n",
              "          [0.7882, 0.7804, 0.7804, 0.7804, 0.7804, 0.7882, 0.7804, 0.7804,\n",
              "           0.7804, 0.7804, 0.7882, 0.7804, 0.7882, 0.7882, 0.7882, 0.7804,\n",
              "           0.7804, 0.7804, 0.7725, 0.7725, 0.7804, 0.7804, 0.7804, 0.7804,\n",
              "           0.7882, 0.7882, 0.7804, 0.7804],\n",
              "          [0.7882, 0.7882, 0.7804, 0.7804, 0.7804, 0.7882, 0.7882, 0.7882,\n",
              "           0.7882, 0.7882, 0.7882, 0.7882, 0.7804, 0.7882, 0.7804, 0.7804,\n",
              "           0.7725, 0.7725, 0.7804, 0.7725, 0.7804, 0.7804, 0.7725, 0.7804,\n",
              "           0.7804, 0.7804, 0.7804, 0.7804],\n",
              "          [0.7804, 0.7882, 0.7804, 0.7804, 0.7804, 0.7804, 0.7804, 0.7882,\n",
              "           0.7804, 0.7804, 0.7804, 0.7804, 0.7804, 0.7882, 0.7804, 0.7725,\n",
              "           0.7725, 0.7725, 0.7725, 0.7725, 0.7725, 0.7725, 0.7647, 0.7725,\n",
              "           0.7804, 0.7725, 0.7725, 0.7804],\n",
              "          [0.7725, 0.7725, 0.7725, 0.7725, 0.7725, 0.7725, 0.7804, 0.7804,\n",
              "           0.7725, 0.7725, 0.7804, 0.7882, 0.7804, 0.7725, 0.7725, 0.7725,\n",
              "           0.7725, 0.7647, 0.7647, 0.7725, 0.7804, 0.7804, 0.7804, 0.7725,\n",
              "           0.7725, 0.7725, 0.7804, 0.7725]]]), 1)"
            ]
          },
          "metadata": {
            "tags": []
          },
          "execution_count": 26
        }
      ]
    },
    {
      "cell_type": "code",
      "metadata": {
        "id": "TGW62M-rJ-jI",
        "colab": {
          "base_uri": "https://localhost:8080/",
          "height": 283
        },
        "outputId": "2b5c1a6d-70c1-49d1-a759-1e55ca8a4a05"
      },
      "source": [
        "## Displaying a MNIST Image\r\n",
        "\r\n",
        "import matplotlib.pyplot as plt \r\n",
        "import numpy as np\r\n",
        "\r\n",
        "show_img = train_data[0][0].numpy().reshape(28, 28)\r\n",
        "plt.imshow(show_img, cmap='gray')"
      ],
      "execution_count": null,
      "outputs": [
        {
          "output_type": "execute_result",
          "data": {
            "text/plain": [
              "<matplotlib.image.AxesImage at 0x7f5d3ec27a90>"
            ]
          },
          "metadata": {
            "tags": []
          },
          "execution_count": 37
        },
        {
          "output_type": "display_data",
          "data": {
            "image/png": "[encoded data removed]",
            "text/plain": [
              "<Figure size 432x288 with 1 Axes>"
            ]
          },
          "metadata": {
            "tags": [],
            "needs_background": "light"
          }
        }
      ]
    },
    {
      "cell_type": "code",
      "metadata": {
        "colab": {
          "base_uri": "https://localhost:8080/"
        },
        "id": "UfRIfKk2FLZt",
        "outputId": "d3188209-b56d-4064-bd09-d57fcfea2e5f"
      },
      "source": [
        "# One Image Size\r\n",
        "print(train_data[50][0].size())\r\n",
        "print(train_data[50][0].numpy().shape)\r\n",
        "# First Image Label\r\n",
        "print(train_data[50][1])"
      ],
      "execution_count": null,
      "outputs": [
        {
          "output_type": "stream",
          "text": [
            "torch.Size([1, 28, 28])\n",
            "(1, 28, 28)\n",
            "1\n"
          ],
          "name": "stdout"
        }
      ]
    },
    {
      "cell_type": "code",
      "metadata": {
        "colab": {
          "base_uri": "https://localhost:8080/"
        },
        "id": "jJxndz0ZDWjz",
        "outputId": "a3fc69be-6120-4bfe-fb4b-443a1440e7f2"
      },
      "source": [
        "#batch size\r\n",
        "#batch_size = 32\r\n",
        "batch_size = 100\r\n",
        "# split data 20% for testing\r\n",
        "test_size = 0.1\r\n",
        "\r\n",
        "# obtain training indices that will be used for validation\r\n",
        "num_train = len(train_data)\r\n",
        "\r\n",
        "# mix data\r\n",
        "# index of num of train\r\n",
        "indices = list(range(num_train))\r\n",
        "# random the index\r\n",
        "np.random.shuffle(indices)\r\n",
        "split = int(np.floor(test_size * num_train))\r\n",
        "# divied into two part\r\n",
        "train_idx, test_idx = indices[split:], indices[:split]\r\n",
        "\r\n",
        "# define the sampler\r\n",
        "train_sampler = SubsetRandomSampler(train_idx)\r\n",
        "test_sampler = SubsetRandomSampler(test_idx)\r\n",
        "\r\n",
        "# prepare loaders\r\n",
        "train_loader = torch.utils.data.DataLoader(\r\n",
        "    train_data, batch_size=batch_size,\r\n",
        "    sampler=train_sampler)\r\n",
        "\r\n",
        "test_loader = torch.utils.data.DataLoader(\r\n",
        "    test_data, batch_size=batch_size,\r\n",
        "    sampler=test_sampler)\r\n",
        "\r\n",
        "print(\"Train dataloader:{}\".format(len(train_loader)))\r\n",
        "print(\"Test dataloader:{}\".format(len(test_loader)))"
      ],
      "execution_count": null,
      "outputs": [
        {
          "output_type": "stream",
          "text": [
            "Train dataloader:495\n",
            "Test dataloader:55\n"
          ],
          "name": "stdout"
        }
      ]
    },
    {
      "cell_type": "code",
      "metadata": {
        "id": "9GbgOtX6Dhwi"
      },
      "source": [
        "class LogisticRegressionModel(nn.Module):\r\n",
        "    def __init__(self, input_size, num_classes):\r\n",
        "        super().__init__()\r\n",
        "        self.linear = nn.Linear(input_size, num_classes)\r\n",
        "\r\n",
        "    def forward(self, x):\r\n",
        "        logits  = self.linear(x)\r\n",
        "        probas = F.softmax(logits, dim=1)\r\n",
        "        return logits, probas"
      ],
      "execution_count": null,
      "outputs": []
    },
    {
      "cell_type": "markdown",
      "metadata": {
        "id": "oto2We0Ephd0"
      },
      "source": [
        "# Settings 1"
      ]
    },
    {
      "cell_type": "code",
      "metadata": {
        "id": "CnZRvINGpgKw"
      },
      "source": [
        "# Hyperparameters\r\n",
        "\r\n",
        "num_iters = 10000\r\n",
        "input_dim = 28*28 # num_features = 784\r\n",
        "output_dim = 10\r\n",
        "\r\n",
        "learning_rate = 0.01\r\n",
        "\r\n",
        "# Device\r\n",
        "device = torch.device(\"cuda:0\" if torch.cuda.is_available() else \"cpu\")"
      ],
      "execution_count": null,
      "outputs": []
    },
    {
      "cell_type": "code",
      "metadata": {
        "colab": {
          "base_uri": "https://localhost:8080/"
        },
        "id": "BkfvXp5_pgKy",
        "outputId": "72a01f97-83be-4827-d010-236959dabaf8"
      },
      "source": [
        "'''\r\n",
        "INSTANTIATE MODEL CLASS\r\n",
        "'''\r\n",
        "model = LogisticRegressionModel(input_size=input_dim,\r\n",
        "                                num_classes=output_dim)\r\n",
        "# To enable GPU\r\n",
        "model.to(device)"
      ],
      "execution_count": null,
      "outputs": [
        {
          "output_type": "execute_result",
          "data": {
            "text/plain": [
              "LogisticRegressionModel(\n",
              "  (linear): Linear(in_features=784, out_features=10, bias=True)\n",
              ")"
            ]
          },
          "metadata": {
            "tags": []
          },
          "execution_count": 17
        }
      ]
    },
    {
      "cell_type": "code",
      "metadata": {
        "id": "lTl4FGKVpgK0"
      },
      "source": [
        "# INSTANTIATE OPTIMIZER CLASS\r\n",
        "\r\n",
        "optimizer = torch.optim.SGD(model.parameters(), lr=learning_rate)"
      ],
      "execution_count": null,
      "outputs": []
    },
    {
      "cell_type": "code",
      "metadata": {
        "colab": {
          "base_uri": "https://localhost:8080/"
        },
        "id": "F0rJYiopy5Ei",
        "outputId": "9e0cf961-ffbd-448c-ac13-9d735540eb42"
      },
      "source": [
        "'''\r\n",
        "TRAIN THE MODEL\r\n",
        "'''\r\n",
        "num_iters=10000\r\n",
        "num_epochs = num_iters / (len(train_data) / batch_size)\r\n",
        "num_epochs = int(num_epochs)\r\n",
        "#num_epochs=20\r\n",
        "iteration_loss = []\r\n",
        "iteration_accuracy=[]\r\n",
        "iter = 0\r\n",
        "for epoch in range(num_epochs):\r\n",
        "    for i,(images, labels) in enumerate(train_loader):\r\n",
        "\r\n",
        "        images = images.view(-1, 28*28).to(device)\r\n",
        "        labels = labels.to(device)\r\n",
        "\r\n",
        "        # Clear gradients w.r.t. parameters\r\n",
        "        optimizer.zero_grad()\r\n",
        "\r\n",
        "        # Forward pass to get output/logits\r\n",
        "        logits, probas = model(images) \r\n",
        "\r\n",
        "        # Calculate Loss: PyTorch implementation of CrossEntropyLoss works with logits, not probabilities\r\n",
        "        loss = F.cross_entropy(logits, labels)\r\n",
        "\r\n",
        "        # Getting gradients w.r.t. parameters\r\n",
        "        loss.backward()\r\n",
        "\r\n",
        "        # Updating parameters\r\n",
        "        optimizer.step()\r\n",
        "\r\n",
        "        iter += 1\r\n",
        "\r\n",
        "        if iter % 500 == 0:\r\n",
        "            # Calculate Accuracy         \r\n",
        "            correct = 0\r\n",
        "            total = 0\r\n",
        "            # Iterate through test dataset\r\n",
        "            for images, labels in test_loader:\r\n",
        "               \r\n",
        "                images = images.view(-1, 28*28).to(device)\r\n",
        "\r\n",
        "                # Forward pass only to get logits/output\r\n",
        "                logits, probas = model(images)\r\n",
        "\r\n",
        "                # Get predictions from the maximum value\r\n",
        "                _, predicted = torch.max(probas, 1)\r\n",
        "\r\n",
        "                # Total number of labels\r\n",
        "                total += labels.size(0)\r\n",
        "\r\n",
        "\r\n",
        "                # Total correct predictions\r\n",
        "                if torch.cuda.is_available():\r\n",
        "                    correct += (predicted.cpu() == labels.cpu()).sum() \r\n",
        "                else:\r\n",
        "                    correct += (predicted == labels).sum()\r\n",
        "\r\n",
        "            accuracy = 100 * correct.item() / total\r\n",
        "\r\n",
        "            # Print Loss\r\n",
        "            iteration_loss.append(loss.item())\r\n",
        "            iteration_accuracy.append(accuracy)\r\n",
        "            print('Iteration: {}. Loss: {}. Accuracy: {}'.format(iter, loss.item(), accuracy))"
      ],
      "execution_count": null,
      "outputs": [
        {
          "output_type": "stream",
          "text": [
            "Iteration: 500. Loss: 2.237647771835327. Accuracy: 26.539162112932605\n",
            "Iteration: 1000. Loss: 2.0822412967681885. Accuracy: 30.29143897996357\n",
            "Iteration: 1500. Loss: 2.010157823562622. Accuracy: 27.577413479052822\n",
            "Iteration: 2000. Loss: 2.0829107761383057. Accuracy: 36.411657559198545\n",
            "Iteration: 2500. Loss: 2.040388345718384. Accuracy: 36.59380692167577\n",
            "Iteration: 3000. Loss: 1.9649059772491455. Accuracy: 37.5591985428051\n",
            "Iteration: 3500. Loss: 2.014690399169922. Accuracy: 38.233151183970854\n",
            "Iteration: 4000. Loss: 1.9133251905441284. Accuracy: 37.431693989071036\n",
            "Iteration: 4500. Loss: 2.097909927368164. Accuracy: 38.68852459016394\n",
            "Iteration: 5000. Loss: 1.9574588537216187. Accuracy: 40.74681238615665\n",
            "Iteration: 5500. Loss: 2.0040504932403564. Accuracy: 39.5264116575592\n",
            "Iteration: 6000. Loss: 1.826127529144287. Accuracy: 41.202185792349724\n",
            "Iteration: 6500. Loss: 1.9897544384002686. Accuracy: 40.783242258652095\n",
            "Iteration: 7000. Loss: 1.790816307067871. Accuracy: 38.05100182149363\n",
            "Iteration: 7500. Loss: 1.9453516006469727. Accuracy: 40.837887067395265\n",
            "Iteration: 8000. Loss: 1.7386282682418823. Accuracy: 39.96357012750455\n",
            "Iteration: 8500. Loss: 1.8430241346359253. Accuracy: 40.74681238615665\n"
          ],
          "name": "stdout"
        }
      ]
    },
    {
      "cell_type": "code",
      "metadata": {
        "colab": {
          "base_uri": "https://localhost:8080/",
          "height": 316
        },
        "id": "yUA_7vWEy5Ek",
        "outputId": "1ad85fde-3f7e-4e77-f836-4fe0ad6bf90c"
      },
      "source": [
        "import matplotlib\r\n",
        "import matplotlib.pyplot as plt\r\n",
        "\r\n",
        "print (iteration_loss)\r\n",
        "plt.plot(iteration_loss)\r\n",
        "plt.ylabel('Cross Entropy Loss')\r\n",
        "plt.xlabel('Iteration (in every 500)')\r\n",
        "plt.show()"
      ],
      "execution_count": null,
      "outputs": [
        {
          "output_type": "stream",
          "text": [
            "[2.237647771835327, 2.0822412967681885, 2.010157823562622, 2.0829107761383057, 2.040388345718384, 1.9649059772491455, 2.014690399169922, 1.9133251905441284, 2.097909927368164, 1.9574588537216187, 2.0040504932403564, 1.826127529144287, 1.9897544384002686, 1.790816307067871, 1.9453516006469727, 1.7386282682418823, 1.8430241346359253]\n"
          ],
          "name": "stdout"
        },
        {
          "output_type": "display_data",
          "data": {
            "image/png": "[encoded data removed]",
            "text/plain": [
              "<Figure size 432x288 with 1 Axes>"
            ]
          },
          "metadata": {
            "tags": [],
            "needs_background": "light"
          }
        }
      ]
    },
    {
      "cell_type": "code",
      "metadata": {
        "colab": {
          "base_uri": "https://localhost:8080/",
          "height": 316
        },
        "id": "U5XL4jSFy5Ek",
        "outputId": "92a4667c-8557-48fb-d8a2-2f2c3a23570d"
      },
      "source": [
        "print (iteration_accuracy)\r\n",
        "plt.plot(iteration_accuracy)\r\n",
        "plt.ylabel('Cross Entropy accuracy')\r\n",
        "plt.xlabel('Iteration (in every 500)')\r\n",
        "plt.show()"
      ],
      "execution_count": null,
      "outputs": [
        {
          "output_type": "stream",
          "text": [
            "[26.539162112932605, 30.29143897996357, 27.577413479052822, 36.411657559198545, 36.59380692167577, 37.5591985428051, 38.233151183970854, 37.431693989071036, 38.68852459016394, 40.74681238615665, 39.5264116575592, 41.202185792349724, 40.783242258652095, 38.05100182149363, 40.837887067395265, 39.96357012750455, 40.74681238615665]\n"
          ],
          "name": "stdout"
        },
        {
          "output_type": "display_data",
          "data": {
            "image/png": "[encoded data removed]",
            "text/plain": [
              "<Figure size 432x288 with 1 Axes>"
            ]
          },
          "metadata": {
            "tags": [],
            "needs_background": "light"
          }
        }
      ]
    },
    {
      "cell_type": "code",
      "metadata": {
        "id": "64XBNTWvy5El"
      },
      "source": [
        "root_path = '/content/drive/My Drive/Assignment/'"
      ],
      "execution_count": null,
      "outputs": []
    },
    {
      "cell_type": "code",
      "metadata": {
        "id": "XuXbMUvRy5El"
      },
      "source": [
        "save_model = True\r\n",
        "\r\n",
        "if save_model is True:\r\n",
        "    # Saves only parameters\r\n",
        "    # wights & biases\r\n",
        "    torch.save(model.state_dict(), root_path + 'NumtaDB_logistic_3.pkl')"
      ],
      "execution_count": null,
      "outputs": []
    },
    {
      "cell_type": "code",
      "metadata": {
        "colab": {
          "base_uri": "https://localhost:8080/"
        },
        "id": "rmi5Xo3Qy5El",
        "outputId": "c79d1140-a0e8-404f-dfe7-20aa75ece9bf"
      },
      "source": [
        "load_model = True\r\n",
        "\r\n",
        "if load_model is True:\r\n",
        "    model.load_state_dict(torch.load(root_path + 'NumtaDB_logistic_3.pkl'))\r\n",
        "    print('Trained Model Loaded')"
      ],
      "execution_count": null,
      "outputs": [
        {
          "output_type": "stream",
          "text": [
            "Trained Model Loaded\n"
          ],
          "name": "stdout"
        }
      ]
    },
    {
      "cell_type": "code",
      "metadata": {
        "id": "RdTzIBwEvHi9",
        "colab": {
          "base_uri": "https://localhost:8080/",
          "height": 109
        },
        "outputId": "9128da4a-167e-4d08-b374-a0c353119154"
      },
      "source": [
        "for images, labels in test_loader:\r\n",
        "    break\r\n",
        "    \r\n",
        "fig, ax = plt.subplots(1, 5)\r\n",
        "for i in range(5):\r\n",
        "    ax[i].imshow(images[i].view(28, 28), cmap=matplotlib.cm.binary)\r\n",
        "\r\n",
        "plt.show()"
      ],
      "execution_count": null,
      "outputs": [
        {
          "output_type": "display_data",
          "data": {
            "image/png": "[encoded data removed]",
            "text/plain": [
              "<Figure size 432x288 with 5 Axes>"
            ]
          },
          "metadata": {
            "tags": [],
            "needs_background": "light"
          }
        }
      ]
    },
    {
      "cell_type": "code",
      "metadata": {
        "id": "JTFTn-cZvJ5f",
        "colab": {
          "base_uri": "https://localhost:8080/"
        },
        "outputId": "763bcf52-58db-45d8-e599-a728eba1e66a"
      },
      "source": [
        "_, predictions = model.forward(images[:5].view(-1, 28*28).to(device))\r\n",
        "predictions = torch.argmax(predictions, dim=1)\r\n",
        "print('Predicted labels', predictions.cpu().numpy())"
      ],
      "execution_count": null,
      "outputs": [
        {
          "output_type": "stream",
          "text": [
            "Predicted labels [8 7 3 3 7]\n"
          ],
          "name": "stdout"
        }
      ]
    },
    {
      "cell_type": "markdown",
      "metadata": {
        "id": "jjgJ2IX-kTqf"
      },
      "source": [
        "# Settings 2"
      ]
    },
    {
      "cell_type": "code",
      "metadata": {
        "id": "2dEHYrKjoSv_"
      },
      "source": [
        "# Hyperparameters\r\n",
        "\r\n",
        "num_iters = 25000\r\n",
        "input_dim = 28*28 # num_features = 784\r\n",
        "output_dim = 10\r\n",
        "\r\n",
        "learning_rate = 0.001\r\n",
        "\r\n",
        "# Device\r\n",
        "device = torch.device(\"cuda:0\" if torch.cuda.is_available() else \"cpu\")"
      ],
      "execution_count": null,
      "outputs": []
    },
    {
      "cell_type": "code",
      "metadata": {
        "colab": {
          "base_uri": "https://localhost:8080/"
        },
        "id": "D2Q9ylaNoSwB",
        "outputId": "86e14aa9-c068-45b3-dfd3-acf369f087a8"
      },
      "source": [
        "'''\r\n",
        "INSTANTIATE MODEL CLASS\r\n",
        "'''\r\n",
        "model = LogisticRegressionModel(input_size=input_dim,\r\n",
        "                                num_classes=output_dim)\r\n",
        "# To enable GPU\r\n",
        "model.to(device)"
      ],
      "execution_count": null,
      "outputs": [
        {
          "output_type": "execute_result",
          "data": {
            "text/plain": [
              "LogisticRegressionModel(\n",
              "  (linear): Linear(in_features=784, out_features=10, bias=True)\n",
              ")"
            ]
          },
          "metadata": {
            "tags": []
          },
          "execution_count": 21
        }
      ]
    },
    {
      "cell_type": "code",
      "metadata": {
        "id": "mun-fW9SoSwC"
      },
      "source": [
        "# INSTANTIATE OPTIMIZER CLASS\r\n",
        "\r\n",
        "optimizer = torch.optim.SGD(model.parameters(), lr=learning_rate)"
      ],
      "execution_count": null,
      "outputs": []
    },
    {
      "cell_type": "code",
      "metadata": {
        "colab": {
          "base_uri": "https://localhost:8080/"
        },
        "id": "NgOP2uIKFMP9",
        "outputId": "07f043dc-7ecb-4268-bd66-0a2d0c58cf7e"
      },
      "source": [
        "'''\r\n",
        "TRAIN THE MODEL\r\n",
        "'''\r\n",
        "num_iters = 25000\r\n",
        "num_epochs = num_iters / (len(train_data) / batch_size)\r\n",
        "num_epochs = int(num_epochs)\r\n",
        "#num_epochs=20\r\n",
        "iteration_loss = []\r\n",
        "iteration_accuracy=[]\r\n",
        "iter = 0\r\n",
        "for epoch in range(num_epochs):\r\n",
        "    for i,(images, labels) in enumerate(train_loader):\r\n",
        "\r\n",
        "        images = images.view(-1, 28*28).to(device)\r\n",
        "        labels = labels.to(device)\r\n",
        "\r\n",
        "        # Clear gradients w.r.t. parameters\r\n",
        "        optimizer.zero_grad()\r\n",
        "\r\n",
        "        # Forward pass to get output/logits\r\n",
        "        logits, probas = model(images) \r\n",
        "\r\n",
        "        # Calculate Loss: PyTorch implementation of CrossEntropyLoss works with logits, not probabilities\r\n",
        "        loss = F.cross_entropy(logits, labels)\r\n",
        "\r\n",
        "        # Getting gradients w.r.t. parameters\r\n",
        "        loss.backward()\r\n",
        "\r\n",
        "        # Updating parameters\r\n",
        "        optimizer.step()\r\n",
        "\r\n",
        "        iter += 1\r\n",
        "\r\n",
        "        if iter % 500 == 0:\r\n",
        "            # Calculate Accuracy         \r\n",
        "            correct = 0\r\n",
        "            total = 0\r\n",
        "            # Iterate through test dataset\r\n",
        "            for images, labels in test_loader:\r\n",
        "               \r\n",
        "                images = images.view(-1, 28*28).to(device)\r\n",
        "\r\n",
        "                # Forward pass only to get logits/output\r\n",
        "                logits, probas = model(images)\r\n",
        "\r\n",
        "                # Get predictions from the maximum value\r\n",
        "                _, predicted = torch.max(probas, 1)\r\n",
        "\r\n",
        "                # Total number of labels\r\n",
        "                total += labels.size(0)\r\n",
        "\r\n",
        "\r\n",
        "                # Total correct predictions\r\n",
        "                if torch.cuda.is_available():\r\n",
        "                    correct += (predicted.cpu() == labels.cpu()).sum() \r\n",
        "                else:\r\n",
        "                    correct += (predicted == labels).sum()\r\n",
        "\r\n",
        "            accuracy = 100 * correct.item() / total\r\n",
        "\r\n",
        "            # Print Loss\r\n",
        "            iteration_loss.append(loss.item())\r\n",
        "            iteration_accuracy.append(accuracy)\r\n",
        "            print('Iteration: {}. Loss: {}. Accuracy: {}'.format(iter, loss.item(), accuracy))"
      ],
      "execution_count": null,
      "outputs": [
        {
          "output_type": "stream",
          "text": [
            "Iteration: 500. Loss: 2.2782983779907227. Accuracy: 12.568306010928962\n",
            "Iteration: 1000. Loss: 2.2846243381500244. Accuracy: 12.076502732240437\n",
            "Iteration: 1500. Loss: 2.271756649017334. Accuracy: 18.77959927140255\n",
            "Iteration: 2000. Loss: 2.2564125061035156. Accuracy: 18.979963570127506\n",
            "Iteration: 2500. Loss: 2.24495005607605. Accuracy: 23.224043715846996\n",
            "Iteration: 3000. Loss: 2.259458541870117. Accuracy: 21.821493624772312\n",
            "Iteration: 3500. Loss: 2.225309133529663. Accuracy: 28.615664845173043\n",
            "Iteration: 4000. Loss: 2.2268452644348145. Accuracy: 25.081967213114755\n",
            "Iteration: 4500. Loss: 2.222311019897461. Accuracy: 31.51183970856102\n",
            "Iteration: 5000. Loss: 2.1927454471588135. Accuracy: 27.140255009107467\n",
            "Iteration: 5500. Loss: 2.205935001373291. Accuracy: 30.036429872495447\n",
            "Iteration: 6000. Loss: 2.206465244293213. Accuracy: 33.1511839708561\n",
            "Iteration: 6500. Loss: 2.1961536407470703. Accuracy: 32.47723132969035\n",
            "Iteration: 7000. Loss: 2.1671478748321533. Accuracy: 32.22222222222222\n",
            "Iteration: 7500. Loss: 2.1900718212127686. Accuracy: 34.69945355191257\n",
            "Iteration: 8000. Loss: 2.1758718490600586. Accuracy: 34.86338797814208\n",
            "Iteration: 8500. Loss: 2.219764232635498. Accuracy: 33.387978142076506\n",
            "Iteration: 9000. Loss: 2.1508312225341797. Accuracy: 35.865209471766846\n",
            "Iteration: 9500. Loss: 2.1238653659820557. Accuracy: 33.82513661202186\n",
            "Iteration: 10000. Loss: 2.131054162979126. Accuracy: 35.02732240437158\n",
            "Iteration: 10500. Loss: 2.212568521499634. Accuracy: 35.974499089253186\n",
            "Iteration: 11000. Loss: 2.1237752437591553. Accuracy: 33.78870673952641\n",
            "Iteration: 11500. Loss: 2.0839149951934814. Accuracy: 33.697632058287795\n",
            "Iteration: 12000. Loss: 2.146822929382324. Accuracy: 35.71948998178507\n",
            "Iteration: 12500. Loss: 2.0877621173858643. Accuracy: 35.6648451730419\n",
            "Iteration: 13000. Loss: 2.090622663497925. Accuracy: 34.82695810564663\n",
            "Iteration: 13500. Loss: 2.0788373947143555. Accuracy: 34.681238615664846\n",
            "Iteration: 14000. Loss: 2.065668821334839. Accuracy: 37.66848816029144\n",
            "Iteration: 14500. Loss: 2.150928258895874. Accuracy: 36.39344262295082\n",
            "Iteration: 15000. Loss: 2.044994354248047. Accuracy: 36.92167577413479\n",
            "Iteration: 15500. Loss: 2.0747363567352295. Accuracy: 36.557377049180324\n",
            "Iteration: 16000. Loss: 2.0684332847595215. Accuracy: 35.974499089253186\n",
            "Iteration: 16500. Loss: 2.042250156402588. Accuracy: 36.68488160291439\n",
            "Iteration: 17000. Loss: 2.046079635620117. Accuracy: 37.35883424408014\n",
            "Iteration: 17500. Loss: 2.0959393978118896. Accuracy: 36.12021857923497\n",
            "Iteration: 18000. Loss: 2.044146776199341. Accuracy: 37.74134790528233\n",
            "Iteration: 18500. Loss: 2.0512425899505615. Accuracy: 37.978142076502735\n",
            "Iteration: 19000. Loss: 2.0536599159240723. Accuracy: 37.650273224043715\n",
            "Iteration: 19500. Loss: 2.0970849990844727. Accuracy: 37.19489981785064\n",
            "Iteration: 20000. Loss: 2.046358108520508. Accuracy: 37.57741347905282\n",
            "Iteration: 20500. Loss: 2.087632656097412. Accuracy: 36.885245901639344\n",
            "Iteration: 21000. Loss: 2.0438168048858643. Accuracy: 37.30418943533698\n",
            "Iteration: 21500. Loss: 2.0637948513031006. Accuracy: 37.94171220400729\n",
            "Iteration: 22000. Loss: 2.050100564956665. Accuracy: 38.61566484517304\n"
          ],
          "name": "stdout"
        }
      ]
    },
    {
      "cell_type": "code",
      "metadata": {
        "colab": {
          "base_uri": "https://localhost:8080/",
          "height": 316
        },
        "id": "r3TIuSEvFMP_",
        "outputId": "5afa0928-97ea-4193-fe64-e122734d0cb0"
      },
      "source": [
        "import matplotlib\r\n",
        "import matplotlib.pyplot as plt\r\n",
        "\r\n",
        "print (iteration_loss)\r\n",
        "plt.plot(iteration_loss)\r\n",
        "plt.ylabel('Cross Entropy Loss')\r\n",
        "plt.xlabel('Iteration (in every 500)')\r\n",
        "plt.show()"
      ],
      "execution_count": null,
      "outputs": [
        {
          "output_type": "stream",
          "text": [
            "[2.2782983779907227, 2.2846243381500244, 2.271756649017334, 2.2564125061035156, 2.24495005607605, 2.259458541870117, 2.225309133529663, 2.2268452644348145, 2.222311019897461, 2.1927454471588135, 2.205935001373291, 2.206465244293213, 2.1961536407470703, 2.1671478748321533, 2.1900718212127686, 2.1758718490600586, 2.219764232635498, 2.1508312225341797, 2.1238653659820557, 2.131054162979126, 2.212568521499634, 2.1237752437591553, 2.0839149951934814, 2.146822929382324, 2.0877621173858643, 2.090622663497925, 2.0788373947143555, 2.065668821334839, 2.150928258895874, 2.044994354248047, 2.0747363567352295, 2.0684332847595215, 2.042250156402588, 2.046079635620117, 2.0959393978118896, 2.044146776199341, 2.0512425899505615, 2.0536599159240723, 2.0970849990844727, 2.046358108520508, 2.087632656097412, 2.0438168048858643, 2.0637948513031006, 2.050100564956665]\n"
          ],
          "name": "stdout"
        },
        {
          "output_type": "display_data",
          "data": {
            "image/png": "[encoded data removed]",
            "text/plain": [
              "<Figure size 432x288 with 1 Axes>"
            ]
          },
          "metadata": {
            "tags": [],
            "needs_background": "light"
          }
        }
      ]
    },
    {
      "cell_type": "code",
      "metadata": {
        "colab": {
          "base_uri": "https://localhost:8080/",
          "height": 316
        },
        "id": "ndE7eBsKFMP_",
        "outputId": "4ac9523d-6605-4a3f-adfe-04e9b097761a"
      },
      "source": [
        "print (iteration_accuracy)\r\n",
        "plt.plot(iteration_accuracy)\r\n",
        "plt.ylabel('Cross Entropy accuracy')\r\n",
        "plt.xlabel('Iteration (in every 500)')\r\n",
        "plt.show()"
      ],
      "execution_count": null,
      "outputs": [
        {
          "output_type": "stream",
          "text": [
            "[12.568306010928962, 12.076502732240437, 18.77959927140255, 18.979963570127506, 23.224043715846996, 21.821493624772312, 28.615664845173043, 25.081967213114755, 31.51183970856102, 27.140255009107467, 30.036429872495447, 33.1511839708561, 32.47723132969035, 32.22222222222222, 34.69945355191257, 34.86338797814208, 33.387978142076506, 35.865209471766846, 33.82513661202186, 35.02732240437158, 35.974499089253186, 33.78870673952641, 33.697632058287795, 35.71948998178507, 35.6648451730419, 34.82695810564663, 34.681238615664846, 37.66848816029144, 36.39344262295082, 36.92167577413479, 36.557377049180324, 35.974499089253186, 36.68488160291439, 37.35883424408014, 36.12021857923497, 37.74134790528233, 37.978142076502735, 37.650273224043715, 37.19489981785064, 37.57741347905282, 36.885245901639344, 37.30418943533698, 37.94171220400729, 38.61566484517304]\n"
          ],
          "name": "stdout"
        },
        {
          "output_type": "display_data",
          "data": {
            "image/png": "[encoded data removed]",
            "text/plain": [
              "<Figure size 432x288 with 1 Axes>"
            ]
          },
          "metadata": {
            "tags": [],
            "needs_background": "light"
          }
        }
      ]
    },
    {
      "cell_type": "markdown",
      "metadata": {
        "id": "C9B0tFuIFdYv"
      },
      "source": [
        "**Save Model**"
      ]
    },
    {
      "cell_type": "code",
      "metadata": {
        "id": "uUuBjigNFMQA"
      },
      "source": [
        "root_path = '/content/drive/My Drive/Assignment/'"
      ],
      "execution_count": null,
      "outputs": []
    },
    {
      "cell_type": "code",
      "metadata": {
        "id": "F8B4TfA3FMQA"
      },
      "source": [
        "save_model = True\r\n",
        "\r\n",
        "if save_model is True:\r\n",
        "    # Saves only parameters\r\n",
        "    # wights & biases\r\n",
        "    torch.save(model.state_dict(), root_path + 'NumtaDB_logistic_2.pkl')"
      ],
      "execution_count": null,
      "outputs": []
    },
    {
      "cell_type": "markdown",
      "metadata": {
        "id": "StHog2h1FMQC"
      },
      "source": [
        "**Load Model and Predict**"
      ]
    },
    {
      "cell_type": "code",
      "metadata": {
        "colab": {
          "base_uri": "https://localhost:8080/"
        },
        "id": "WEayPkT4FMQB",
        "outputId": "a5ed6fe7-d87e-4cd7-d620-e3e2f369fd9e"
      },
      "source": [
        "load_model = True\r\n",
        "\r\n",
        "if load_model is True:\r\n",
        "    model.load_state_dict(torch.load(root_path + 'NumtaDB_logistic_2.pkl'))\r\n",
        "    print('Trained Model Loaded')"
      ],
      "execution_count": null,
      "outputs": [
        {
          "output_type": "stream",
          "text": [
            "Trained Model Loaded\n"
          ],
          "name": "stdout"
        }
      ]
    },
    {
      "cell_type": "code",
      "metadata": {
        "colab": {
          "base_uri": "https://localhost:8080/",
          "height": 108
        },
        "id": "wfDmPsEKF9sG",
        "outputId": "bc27ff72-c226-425a-b1a9-99eab233e9fb"
      },
      "source": [
        "for images, labels in test_loader:\r\n",
        "    break\r\n",
        "    \r\n",
        "fig, ax = plt.subplots(1, 5)\r\n",
        "for i in range(5):\r\n",
        "    ax[i].imshow(images[i].view(28, 28), cmap=matplotlib.cm.binary)\r\n",
        "\r\n",
        "plt.show()"
      ],
      "execution_count": null,
      "outputs": [
        {
          "output_type": "display_data",
          "data": {
            "image/png": "[encoded data removed]",
            "text/plain": [
              "<Figure size 432x288 with 5 Axes>"
            ]
          },
          "metadata": {
            "tags": [],
            "needs_background": "light"
          }
        }
      ]
    },
    {
      "cell_type": "code",
      "metadata": {
        "colab": {
          "base_uri": "https://localhost:8080/"
        },
        "id": "1fF_jxgFF9sK",
        "outputId": "889ddc67-b383-4808-9c50-cdb626dc347f"
      },
      "source": [
        "_, predictions = model.forward(images[:5].view(-1, 28*28).to(device))\r\n",
        "predictions = torch.argmax(predictions, dim=1)\r\n",
        "print('Predicted labels', predictions.cpu().numpy())"
      ],
      "execution_count": null,
      "outputs": [
        {
          "output_type": "stream",
          "text": [
            "Predicted labels [8 0 6 1 3]\n"
          ],
          "name": "stdout"
        }
      ]
    },
    {
      "cell_type": "markdown",
      "metadata": {
        "id": "n6NrTRdFjlZl"
      },
      "source": [
        "# Settings 3\r\n"
      ]
    },
    {
      "cell_type": "code",
      "metadata": {
        "id": "pHDnpSn5EA8h"
      },
      "source": [
        "# Hyperparameters\r\n",
        "\r\n",
        "num_iters = 20000\r\n",
        "input_dim = 28*28 # num_features = 784\r\n",
        "output_dim = 10\r\n",
        "\r\n",
        "learning_rate = 0.0001\r\n",
        "\r\n",
        "# Device\r\n",
        "device = torch.device(\"cuda:0\" if torch.cuda.is_available() else \"cpu\")"
      ],
      "execution_count": null,
      "outputs": []
    },
    {
      "cell_type": "code",
      "metadata": {
        "colab": {
          "base_uri": "https://localhost:8080/"
        },
        "id": "qX-azUu1EFaj",
        "outputId": "d8a356ed-3243-48a8-f716-72495fb1af60"
      },
      "source": [
        "'''\r\n",
        "INSTANTIATE MODEL CLASS\r\n",
        "'''\r\n",
        "model = LogisticRegressionModel(input_size=input_dim,\r\n",
        "                                num_classes=output_dim)\r\n",
        "# To enable GPU\r\n",
        "model.to(device)"
      ],
      "execution_count": null,
      "outputs": [
        {
          "output_type": "execute_result",
          "data": {
            "text/plain": [
              "LogisticRegressionModel(\n",
              "  (linear): Linear(in_features=784, out_features=10, bias=True)\n",
              ")"
            ]
          },
          "metadata": {
            "tags": []
          },
          "execution_count": 32
        }
      ]
    },
    {
      "cell_type": "code",
      "metadata": {
        "id": "-xTZ7zq-EJRa"
      },
      "source": [
        "# INSTANTIATE OPTIMIZER CLASS\r\n",
        "\r\n",
        "optimizer = torch.optim.Adam(model.parameters(), lr=learning_rate)"
      ],
      "execution_count": null,
      "outputs": []
    },
    {
      "cell_type": "code",
      "metadata": {
        "colab": {
          "base_uri": "https://localhost:8080/"
        },
        "id": "tqDlerlfEOgT",
        "outputId": "0f3ee95d-9d91-4fff-f68b-df3a18a22a46"
      },
      "source": [
        "'''\r\n",
        "TRAIN THE MODEL\r\n",
        "'''\r\n",
        "num_iters = 20000\r\n",
        "num_epochs = num_iters / (len(train_data) / batch_size)\r\n",
        "num_epochs = int(num_epochs)\r\n",
        "#num_epochs=20\r\n",
        "iteration_loss = []\r\n",
        "iteration_accuracy=[]\r\n",
        "iter = 0\r\n",
        "for epoch in range(num_epochs):\r\n",
        "    for i,(images, labels) in enumerate(train_loader):\r\n",
        "\r\n",
        "        images = images.view(-1, 28*28).to(device)\r\n",
        "        labels = labels.to(device)\r\n",
        "\r\n",
        "        # Clear gradients w.r.t. parameters\r\n",
        "        optimizer.zero_grad()\r\n",
        "\r\n",
        "        # Forward pass to get output/logits\r\n",
        "        logits, probas = model(images) \r\n",
        "\r\n",
        "        # Calculate Loss: PyTorch implementation of CrossEntropyLoss works with logits, not probabilities\r\n",
        "        loss = F.cross_entropy(logits, labels)\r\n",
        "\r\n",
        "        # Getting gradients w.r.t. parameters\r\n",
        "        loss.backward()\r\n",
        "\r\n",
        "        # Updating parameters\r\n",
        "        optimizer.step()\r\n",
        "\r\n",
        "        iter += 1\r\n",
        "\r\n",
        "        if iter % 500 == 0:\r\n",
        "            # Calculate Accuracy         \r\n",
        "            correct = 0\r\n",
        "            total = 0\r\n",
        "            # Iterate through test dataset\r\n",
        "            for images, labels in test_loader:\r\n",
        "               \r\n",
        "                images = images.view(-1, 28*28).to(device)\r\n",
        "\r\n",
        "                # Forward pass only to get logits/output\r\n",
        "                logits, probas = model(images)\r\n",
        "\r\n",
        "                # Get predictions from the maximum value\r\n",
        "                _, predicted = torch.max(probas, 1)\r\n",
        "\r\n",
        "                # Total number of labels\r\n",
        "                total += labels.size(0)\r\n",
        "\r\n",
        "\r\n",
        "                # Total correct predictions\r\n",
        "                if torch.cuda.is_available():\r\n",
        "                    correct += (predicted.cpu() == labels.cpu()).sum() \r\n",
        "                else:\r\n",
        "                    correct += (predicted == labels).sum()\r\n",
        "\r\n",
        "            accuracy = 100 * correct.item() / total\r\n",
        "\r\n",
        "            # Print Loss\r\n",
        "            iteration_loss.append(loss.item())\r\n",
        "            iteration_accuracy.append(accuracy)\r\n",
        "            print('Iteration: {}. Loss: {}. Accuracy: {}'.format(iter, loss.item(), accuracy))"
      ],
      "execution_count": null,
      "outputs": [
        {
          "output_type": "stream",
          "text": [
            "Iteration: 500. Loss: 2.2654128074645996. Accuracy: 18.214936247723134\n",
            "Iteration: 1000. Loss: 2.2124013900756836. Accuracy: 19.981785063752277\n",
            "Iteration: 1500. Loss: 2.2298173904418945. Accuracy: 19.744990892531877\n",
            "Iteration: 2000. Loss: 2.183539628982544. Accuracy: 34.00728597449909\n",
            "Iteration: 2500. Loss: 2.088510751724243. Accuracy: 32.71402550091074\n",
            "Iteration: 3000. Loss: 2.1330177783966064. Accuracy: 33.29690346083789\n",
            "Iteration: 3500. Loss: 2.125211000442505. Accuracy: 35.55555555555556\n",
            "Iteration: 4000. Loss: 2.055210590362549. Accuracy: 36.466302367941715\n",
            "Iteration: 4500. Loss: 2.0877878665924072. Accuracy: 34.66302367941712\n",
            "Iteration: 5000. Loss: 2.0518136024475098. Accuracy: 36.5391621129326\n",
            "Iteration: 5500. Loss: 2.026521921157837. Accuracy: 36.63023679417122\n",
            "Iteration: 6000. Loss: 2.081747531890869. Accuracy: 35.99271402550091\n",
            "Iteration: 6500. Loss: 1.940467119216919. Accuracy: 37.0856102003643\n",
            "Iteration: 7000. Loss: 1.9620559215545654. Accuracy: 38.451730418943534\n",
            "Iteration: 7500. Loss: 1.9260188341140747. Accuracy: 36.22950819672131\n",
            "Iteration: 8000. Loss: 1.962401270866394. Accuracy: 38.451730418943534\n",
            "Iteration: 8500. Loss: 1.8956724405288696. Accuracy: 38.68852459016394\n",
            "Iteration: 9000. Loss: 1.9350510835647583. Accuracy: 38.233151183970854\n",
            "Iteration: 9500. Loss: 1.974446415901184. Accuracy: 40.0\n",
            "Iteration: 10000. Loss: 1.912203073501587. Accuracy: 37.94171220400729\n",
            "Iteration: 10500. Loss: 1.9960943460464478. Accuracy: 38.48816029143898\n",
            "Iteration: 11000. Loss: 1.885817527770996. Accuracy: 39.98178506375228\n",
            "Iteration: 11500. Loss: 1.855926513671875. Accuracy: 39.47176684881603\n",
            "Iteration: 12000. Loss: 1.851416826248169. Accuracy: 40.34608378870674\n",
            "Iteration: 12500. Loss: 1.9282214641571045. Accuracy: 40.455373406193075\n",
            "Iteration: 13000. Loss: 2.00600528717041. Accuracy: 41.32969034608379\n",
            "Iteration: 13500. Loss: 1.8121745586395264. Accuracy: 40.400728597449906\n",
            "Iteration: 14000. Loss: 1.920831322669983. Accuracy: 40.400728597449906\n",
            "Iteration: 14500. Loss: 1.9545767307281494. Accuracy: 40.91074681238616\n",
            "Iteration: 15000. Loss: 1.9395862817764282. Accuracy: 40.63752276867031\n",
            "Iteration: 15500. Loss: 1.936037302017212. Accuracy: 41.12932604735884\n",
            "Iteration: 16000. Loss: 1.838061809539795. Accuracy: 40.10928961748634\n",
            "Iteration: 16500. Loss: 1.9234919548034668. Accuracy: 41.98542805100182\n",
            "Iteration: 17000. Loss: 1.8476604223251343. Accuracy: 41.202185792349724\n",
            "Iteration: 17500. Loss: 1.7501587867736816. Accuracy: 40.38251366120219\n"
          ],
          "name": "stdout"
        }
      ]
    },
    {
      "cell_type": "code",
      "metadata": {
        "id": "4OaH4VHoG-IO",
        "colab": {
          "base_uri": "https://localhost:8080/",
          "height": 317
        },
        "outputId": "1f1efec0-8ef6-49f6-fdcd-850b1e29e175"
      },
      "source": [
        "import matplotlib\r\n",
        "import matplotlib.pyplot as plt\r\n",
        "\r\n",
        "print (iteration_loss)\r\n",
        "plt.plot(iteration_loss)\r\n",
        "plt.ylabel('Cross Entropy Loss')\r\n",
        "plt.xlabel('Iteration (in every 500)')\r\n",
        "plt.show()"
      ],
      "execution_count": null,
      "outputs": [
        {
          "output_type": "stream",
          "text": [
            "[2.2654128074645996, 2.2124013900756836, 2.2298173904418945, 2.183539628982544, 2.088510751724243, 2.1330177783966064, 2.125211000442505, 2.055210590362549, 2.0877878665924072, 2.0518136024475098, 2.026521921157837, 2.081747531890869, 1.940467119216919, 1.9620559215545654, 1.9260188341140747, 1.962401270866394, 1.8956724405288696, 1.9350510835647583, 1.974446415901184, 1.912203073501587, 1.9960943460464478, 1.885817527770996, 1.855926513671875, 1.851416826248169, 1.9282214641571045, 2.00600528717041, 1.8121745586395264, 1.920831322669983, 1.9545767307281494, 1.9395862817764282, 1.936037302017212, 1.838061809539795, 1.9234919548034668, 1.8476604223251343, 1.7501587867736816]\n"
          ],
          "name": "stdout"
        },
        {
          "output_type": "display_data",
          "data": {
            "image/png": "[encoded data removed]",
            "text/plain": [
              "<Figure size 432x288 with 1 Axes>"
            ]
          },
          "metadata": {
            "tags": [],
            "needs_background": "light"
          }
        }
      ]
    },
    {
      "cell_type": "code",
      "metadata": {
        "id": "gdCyXRvYLkz2",
        "colab": {
          "base_uri": "https://localhost:8080/",
          "height": 317
        },
        "outputId": "49f03022-3589-417d-cea3-389ff891423e"
      },
      "source": [
        "print (iteration_accuracy)\r\n",
        "plt.plot(iteration_accuracy)\r\n",
        "plt.ylabel('Cross Entropy accuracy')\r\n",
        "plt.xlabel('Iteration (in every 500)')\r\n",
        "plt.show()"
      ],
      "execution_count": null,
      "outputs": [
        {
          "output_type": "stream",
          "text": [
            "[18.214936247723134, 19.981785063752277, 19.744990892531877, 34.00728597449909, 32.71402550091074, 33.29690346083789, 35.55555555555556, 36.466302367941715, 34.66302367941712, 36.5391621129326, 36.63023679417122, 35.99271402550091, 37.0856102003643, 38.451730418943534, 36.22950819672131, 38.451730418943534, 38.68852459016394, 38.233151183970854, 40.0, 37.94171220400729, 38.48816029143898, 39.98178506375228, 39.47176684881603, 40.34608378870674, 40.455373406193075, 41.32969034608379, 40.400728597449906, 40.400728597449906, 40.91074681238616, 40.63752276867031, 41.12932604735884, 40.10928961748634, 41.98542805100182, 41.202185792349724, 40.38251366120219]\n"
          ],
          "name": "stdout"
        },
        {
          "output_type": "display_data",
          "data": {
            "image/png": "[encoded data removed]",
            "text/plain": [
              "<Figure size 432x288 with 1 Axes>"
            ]
          },
          "metadata": {
            "tags": [],
            "needs_background": "light"
          }
        }
      ]
    },
    {
      "cell_type": "markdown",
      "metadata": {
        "id": "kwAQ0BqGm1_i"
      },
      "source": [
        "**Saving Model**"
      ]
    },
    {
      "cell_type": "code",
      "metadata": {
        "id": "Z7leWLCmu4Rh"
      },
      "source": [
        "root_path = '/content/drive/My Drive/Assignment/'"
      ],
      "execution_count": null,
      "outputs": []
    },
    {
      "cell_type": "code",
      "metadata": {
        "id": "Eyx9cQ7ovC0r"
      },
      "source": [
        "save_model = True\r\n",
        "\r\n",
        "if save_model is True:\r\n",
        "    # Saves only parameters\r\n",
        "    # wights & biases\r\n",
        "    torch.save(model.state_dict(), root_path + 'NumtaDB_logistic_1.pkl')"
      ],
      "execution_count": null,
      "outputs": []
    },
    {
      "cell_type": "markdown",
      "metadata": {
        "id": "3LNk0elmm7sK"
      },
      "source": [
        "**Load Model and Predict**"
      ]
    },
    {
      "cell_type": "code",
      "metadata": {
        "colab": {
          "base_uri": "https://localhost:8080/"
        },
        "id": "-3BHnulUvFdG",
        "outputId": "a5ed6fe7-d87e-4cd7-d620-e3e2f369fd9e"
      },
      "source": [
        "load_model = True\r\n",
        "\r\n",
        "if load_model is True:\r\n",
        "    model.load_state_dict(torch.load(root_path + 'NumtaDB_logistic_1.pkl'))\r\n",
        "    print('Trained Model Loaded')"
      ],
      "execution_count": null,
      "outputs": [
        {
          "output_type": "stream",
          "text": [
            "Trained Model Loaded\n"
          ],
          "name": "stdout"
        }
      ]
    },
    {
      "cell_type": "code",
      "metadata": {
        "colab": {
          "base_uri": "https://localhost:8080/",
          "height": 109
        },
        "id": "SS3phYKUjHGJ",
        "outputId": "834f17d3-45a2-4a57-f7d0-61ef37d78ac0"
      },
      "source": [
        "for images, labels in test_loader:\r\n",
        "    break\r\n",
        "    \r\n",
        "fig, ax = plt.subplots(1, 5)\r\n",
        "for i in range(5):\r\n",
        "    ax[i].imshow(images[i].view(28, 28), cmap=matplotlib.cm.binary)\r\n",
        "\r\n",
        "plt.show()"
      ],
      "execution_count": null,
      "outputs": [
        {
          "output_type": "display_data",
          "data": {
            "image/png": "[encoded data removed]",
            "text/plain": [
              "<Figure size 432x288 with 5 Axes>"
            ]
          },
          "metadata": {
            "tags": [],
            "needs_background": "light"
          }
        }
      ]
    },
    {
      "cell_type": "code",
      "metadata": {
        "colab": {
          "base_uri": "https://localhost:8080/"
        },
        "id": "5H7LPtRxjHGO",
        "outputId": "4ab0e490-25a6-45b3-e8f8-80308f9c9b65"
      },
      "source": [
        "_, predictions = model.forward(images[:5].view(-1, 28*28).to(device))\r\n",
        "predictions = torch.argmax(predictions, dim=1)\r\n",
        "print('Predicted labels', predictions.cpu().numpy())"
      ],
      "execution_count": null,
      "outputs": [
        {
          "output_type": "stream",
          "text": [
            "Predicted labels [4 3 3 2 6]\n"
          ],
          "name": "stdout"
        }
      ]
    },
    {
      "cell_type": "markdown",
      "metadata": {
        "id": "t6Q9cFypVHjW"
      },
      "source": [
        "# Settings 4"
      ]
    },
    {
      "cell_type": "code",
      "metadata": {
        "id": "egsLSoXZVEr7"
      },
      "source": [
        "# Hyperparameters\r\n",
        "\r\n",
        "num_iters = 25000\r\n",
        "input_dim = 28*28 # num_features = 784\r\n",
        "output_dim = 10\r\n",
        "\r\n",
        "learning_rate = 0.001\r\n",
        "\r\n",
        "# Device\r\n",
        "device = torch.device(\"cuda:0\" if torch.cuda.is_available() else \"cpu\")"
      ],
      "execution_count": null,
      "outputs": []
    },
    {
      "cell_type": "code",
      "metadata": {
        "colab": {
          "base_uri": "https://localhost:8080/"
        },
        "id": "2U5c0gp6VEr-",
        "outputId": "35665b9c-4215-4828-e2a4-adaa5e13de06"
      },
      "source": [
        "'''\r\n",
        "INSTANTIATE MODEL CLASS\r\n",
        "'''\r\n",
        "model = LogisticRegressionModel(input_size=input_dim,\r\n",
        "                                num_classes=output_dim)\r\n",
        "# To enable GPU\r\n",
        "model.to(device)"
      ],
      "execution_count": null,
      "outputs": [
        {
          "output_type": "execute_result",
          "data": {
            "text/plain": [
              "LogisticRegressionModel(\n",
              "  (linear): Linear(in_features=784, out_features=10, bias=True)\n",
              ")"
            ]
          },
          "metadata": {
            "tags": []
          },
          "execution_count": 22
        }
      ]
    },
    {
      "cell_type": "code",
      "metadata": {
        "id": "kZLKYtBDVEsB"
      },
      "source": [
        "# INSTANTIATE OPTIMIZER CLASS\r\n",
        "\r\n",
        "optimizer = torch.optim.Adam(model.parameters(), lr=learning_rate)"
      ],
      "execution_count": null,
      "outputs": []
    },
    {
      "cell_type": "code",
      "metadata": {
        "colab": {
          "base_uri": "https://localhost:8080/"
        },
        "id": "ma02VS44VEsD",
        "outputId": "79ad3b20-e1b3-457b-af6e-e7dff7de174a"
      },
      "source": [
        "'''\r\n",
        "TRAIN THE MODEL\r\n",
        "'''\r\n",
        "num_iters=25000\r\n",
        "num_epochs = num_iters / (len(train_data) / batch_size)\r\n",
        "num_epochs = int(num_epochs)\r\n",
        "#num_epochs=20\r\n",
        "iteration_loss = []\r\n",
        "iteration_accuracy=[]\r\n",
        "iter = 0\r\n",
        "for epoch in range(num_epochs):\r\n",
        "    for i,(images, labels) in enumerate(train_loader):\r\n",
        "\r\n",
        "        images = images.view(-1, 28*28).to(device)\r\n",
        "        labels = labels.to(device)\r\n",
        "\r\n",
        "        # Clear gradients w.r.t. parameters\r\n",
        "        optimizer.zero_grad()\r\n",
        "\r\n",
        "        # Forward pass to get output/logits\r\n",
        "        logits, probas = model(images) \r\n",
        "\r\n",
        "        # Calculate Loss: PyTorch implementation of CrossEntropyLoss works with logits, not probabilities\r\n",
        "        loss = F.cross_entropy(logits, labels)\r\n",
        "\r\n",
        "        # Getting gradients w.r.t. parameters\r\n",
        "        loss.backward()\r\n",
        "\r\n",
        "        # Updating parameters\r\n",
        "        optimizer.step()\r\n",
        "\r\n",
        "        iter += 1\r\n",
        "\r\n",
        "        if iter % 500 == 0:\r\n",
        "            # Calculate Accuracy         \r\n",
        "            correct = 0\r\n",
        "            total = 0\r\n",
        "            # Iterate through test dataset\r\n",
        "            for images, labels in test_loader:\r\n",
        "               \r\n",
        "                images = images.view(-1, 28*28).to(device)\r\n",
        "\r\n",
        "                # Forward pass only to get logits/output\r\n",
        "                logits, probas = model(images)\r\n",
        "\r\n",
        "                # Get predictions from the maximum value\r\n",
        "                _, predicted = torch.max(probas, 1)\r\n",
        "\r\n",
        "                # Total number of labels\r\n",
        "                total += labels.size(0)\r\n",
        "\r\n",
        "\r\n",
        "                # Total correct predictions\r\n",
        "                if torch.cuda.is_available():\r\n",
        "                    correct += (predicted.cpu() == labels.cpu()).sum() \r\n",
        "                else:\r\n",
        "                    correct += (predicted == labels).sum()\r\n",
        "\r\n",
        "            accuracy = 100 * correct.item() / total\r\n",
        "\r\n",
        "            # Print Loss\r\n",
        "            iteration_loss.append(loss.item())\r\n",
        "            iteration_accuracy.append(accuracy)\r\n",
        "            print('Iteration: {}. Loss: {}. Accuracy: {}'.format(iter, loss.item(), accuracy))"
      ],
      "execution_count": null,
      "outputs": [
        {
          "output_type": "stream",
          "text": [
            "Iteration: 500. Loss: 2.1022846698760986. Accuracy: 28.852459016393443\n",
            "Iteration: 1000. Loss: 2.096132278442383. Accuracy: 32.349726775956285\n",
            "Iteration: 1500. Loss: 1.9226287603378296. Accuracy: 35.591985428051004\n",
            "Iteration: 2000. Loss: 1.9426960945129395. Accuracy: 38.797814207650276\n",
            "Iteration: 2500. Loss: 2.01287841796875. Accuracy: 38.77959927140255\n",
            "Iteration: 3000. Loss: 1.8556451797485352. Accuracy: 37.17668488160292\n",
            "Iteration: 3500. Loss: 1.8285953998565674. Accuracy: 40.34608378870674\n",
            "Iteration: 4000. Loss: 1.9923999309539795. Accuracy: 40.98360655737705\n",
            "Iteration: 4500. Loss: 1.9299836158752441. Accuracy: 41.38433515482696\n",
            "Iteration: 5000. Loss: 1.7021076679229736. Accuracy: 40.564663023679415\n",
            "Iteration: 5500. Loss: 1.8428280353546143. Accuracy: 41.657559198542806\n",
            "Iteration: 6000. Loss: 1.9763439893722534. Accuracy: 43.67941712204007\n",
            "Iteration: 6500. Loss: 1.7265123128890991. Accuracy: 40.76502732240437\n",
            "Iteration: 7000. Loss: 1.8585481643676758. Accuracy: 43.78870673952641\n",
            "Iteration: 7500. Loss: 1.8102736473083496. Accuracy: 44.134790528233154\n",
            "Iteration: 8000. Loss: 1.9271421432495117. Accuracy: 43.442622950819676\n",
            "Iteration: 8500. Loss: 1.673996090888977. Accuracy: 44.04371584699454\n",
            "Iteration: 9000. Loss: 1.6633026599884033. Accuracy: 44.24408014571949\n",
            "Iteration: 9500. Loss: 1.847864031791687. Accuracy: 45.71948998178507\n",
            "Iteration: 10000. Loss: 1.800041675567627. Accuracy: 45.373406193078324\n",
            "Iteration: 10500. Loss: 1.8935786485671997. Accuracy: 45.46448087431694\n",
            "Iteration: 11000. Loss: 1.8638546466827393. Accuracy: 43.71584699453552\n",
            "Iteration: 11500. Loss: 1.744131326675415. Accuracy: 44.571948998178506\n",
            "Iteration: 12000. Loss: 1.8851650953292847. Accuracy: 43.18761384335155\n",
            "Iteration: 12500. Loss: 1.7718501091003418. Accuracy: 45.13661202185792\n",
            "Iteration: 13000. Loss: 1.6771963834762573. Accuracy: 44.97267759562842\n",
            "Iteration: 13500. Loss: 1.6608917713165283. Accuracy: 44.15300546448088\n",
            "Iteration: 14000. Loss: 1.854557752609253. Accuracy: 44.462659380692166\n",
            "Iteration: 14500. Loss: 2.0438530445098877. Accuracy: 44.29872495446266\n",
            "Iteration: 15000. Loss: 1.800571322441101. Accuracy: 46.86703096539162\n",
            "Iteration: 15500. Loss: 1.738742470741272. Accuracy: 45.22768670309654\n",
            "Iteration: 16000. Loss: 1.6210603713989258. Accuracy: 46.721311475409834\n",
            "Iteration: 16500. Loss: 1.5983211994171143. Accuracy: 47.66848816029144\n",
            "Iteration: 17000. Loss: 1.663317084312439. Accuracy: 46.79417122040073\n",
            "Iteration: 17500. Loss: 1.8860336542129517. Accuracy: 42.349726775956285\n",
            "Iteration: 18000. Loss: 1.5012142658233643. Accuracy: 42.55009107468124\n",
            "Iteration: 18500. Loss: 1.9609065055847168. Accuracy: 45.318761384335154\n",
            "Iteration: 19000. Loss: 1.6778548955917358. Accuracy: 44.93624772313297\n",
            "Iteration: 19500. Loss: 1.815293550491333. Accuracy: 46.083788706739526\n",
            "Iteration: 20000. Loss: 1.8621971607208252. Accuracy: 47.19489981785064\n",
            "Iteration: 20500. Loss: 1.7630001306533813. Accuracy: 47.704918032786885\n",
            "Iteration: 21000. Loss: 1.908095121383667. Accuracy: 44.735883424408016\n",
            "Iteration: 21500. Loss: 2.0367255210876465. Accuracy: 41.056466302367944\n",
            "Iteration: 22000. Loss: 1.7368038892745972. Accuracy: 48.178506375227684\n"
          ],
          "name": "stdout"
        }
      ]
    },
    {
      "cell_type": "code",
      "metadata": {
        "colab": {
          "base_uri": "https://localhost:8080/",
          "height": 317
        },
        "id": "YwbIzEVsVEsF",
        "outputId": "447925d9-435c-4acd-931f-33fb06268085"
      },
      "source": [
        "import matplotlib\r\n",
        "import matplotlib.pyplot as plt\r\n",
        "\r\n",
        "print (iteration_loss)\r\n",
        "plt.plot(iteration_loss)\r\n",
        "plt.ylabel('Cross Entropy Loss')\r\n",
        "plt.xlabel('Iteration (in every 500)')\r\n",
        "plt.show()"
      ],
      "execution_count": null,
      "outputs": [
        {
          "output_type": "stream",
          "text": [
            "[2.1022846698760986, 2.096132278442383, 1.9226287603378296, 1.9426960945129395, 2.01287841796875, 1.8556451797485352, 1.8285953998565674, 1.9923999309539795, 1.9299836158752441, 1.7021076679229736, 1.8428280353546143, 1.9763439893722534, 1.7265123128890991, 1.8585481643676758, 1.8102736473083496, 1.9271421432495117, 1.673996090888977, 1.6633026599884033, 1.847864031791687, 1.800041675567627, 1.8935786485671997, 1.8638546466827393, 1.744131326675415, 1.8851650953292847, 1.7718501091003418, 1.6771963834762573, 1.6608917713165283, 1.854557752609253, 2.0438530445098877, 1.800571322441101, 1.738742470741272, 1.6210603713989258, 1.5983211994171143, 1.663317084312439, 1.8860336542129517, 1.5012142658233643, 1.9609065055847168, 1.6778548955917358, 1.815293550491333, 1.8621971607208252, 1.7630001306533813, 1.908095121383667, 2.0367255210876465, 1.7368038892745972]\n"
          ],
          "name": "stdout"
        },
        {
          "output_type": "display_data",
          "data": {
            "image/png": "[encoded data removed]",
            "text/plain": [
              "<Figure size 432x288 with 1 Axes>"
            ]
          },
          "metadata": {
            "tags": [],
            "needs_background": "light"
          }
        }
      ]
    },
    {
      "cell_type": "code",
      "metadata": {
        "colab": {
          "base_uri": "https://localhost:8080/",
          "height": 317
        },
        "id": "YQqqaC__VEsH",
        "outputId": "e68e9f4f-98d0-40aa-eb10-72a106aa47ec"
      },
      "source": [
        "print (iteration_accuracy)\r\n",
        "plt.plot(iteration_accuracy)\r\n",
        "plt.ylabel('Cross Entropy accuracy')\r\n",
        "plt.xlabel('Iteration (in every 500)')\r\n",
        "plt.show()"
      ],
      "execution_count": null,
      "outputs": [
        {
          "output_type": "stream",
          "text": [
            "[28.852459016393443, 32.349726775956285, 35.591985428051004, 38.797814207650276, 38.77959927140255, 37.17668488160292, 40.34608378870674, 40.98360655737705, 41.38433515482696, 40.564663023679415, 41.657559198542806, 43.67941712204007, 40.76502732240437, 43.78870673952641, 44.134790528233154, 43.442622950819676, 44.04371584699454, 44.24408014571949, 45.71948998178507, 45.373406193078324, 45.46448087431694, 43.71584699453552, 44.571948998178506, 43.18761384335155, 45.13661202185792, 44.97267759562842, 44.15300546448088, 44.462659380692166, 44.29872495446266, 46.86703096539162, 45.22768670309654, 46.721311475409834, 47.66848816029144, 46.79417122040073, 42.349726775956285, 42.55009107468124, 45.318761384335154, 44.93624772313297, 46.083788706739526, 47.19489981785064, 47.704918032786885, 44.735883424408016, 41.056466302367944, 48.178506375227684]\n"
          ],
          "name": "stdout"
        },
        {
          "output_type": "display_data",
          "data": {
            "image/png": "[encoded data removed]",
            "text/plain": [
              "<Figure size 432x288 with 1 Axes>"
            ]
          },
          "metadata": {
            "tags": [],
            "needs_background": "light"
          }
        }
      ]
    },
    {
      "cell_type": "markdown",
      "metadata": {
        "id": "NLeUHB_XXaRz"
      },
      "source": [
        "**Save Model**"
      ]
    },
    {
      "cell_type": "code",
      "metadata": {
        "id": "gT4bFBZxXaR0"
      },
      "source": [
        "root_path = '/content/drive/My Drive/Assignment/'"
      ],
      "execution_count": null,
      "outputs": []
    },
    {
      "cell_type": "code",
      "metadata": {
        "id": "TXNokqFeXaR0"
      },
      "source": [
        "save_model = True\r\n",
        "\r\n",
        "if save_model is True:\r\n",
        "    # Saves only parameters\r\n",
        "    # wights & biases\r\n",
        "    torch.save(model.state_dict(), root_path + 'NumtaDB_logistic_4.pkl')"
      ],
      "execution_count": null,
      "outputs": []
    },
    {
      "cell_type": "markdown",
      "metadata": {
        "id": "7MFads1cXaR0"
      },
      "source": [
        "**Load Model and Predict**"
      ]
    },
    {
      "cell_type": "code",
      "metadata": {
        "colab": {
          "base_uri": "https://localhost:8080/"
        },
        "id": "sdsMawUZXaR1",
        "outputId": "a5ed6fe7-d87e-4cd7-d620-e3e2f369fd9e"
      },
      "source": [
        "load_model = True\r\n",
        "\r\n",
        "if load_model is True:\r\n",
        "    model.load_state_dict(torch.load(root_path + 'NumtaDB_logistic_4.pkl'))\r\n",
        "    print('Trained Model Loaded')"
      ],
      "execution_count": null,
      "outputs": [
        {
          "output_type": "stream",
          "text": [
            "Trained Model Loaded\n"
          ],
          "name": "stdout"
        }
      ]
    },
    {
      "cell_type": "code",
      "metadata": {
        "colab": {
          "base_uri": "https://localhost:8080/",
          "height": 108
        },
        "id": "USDijIFfXaR2",
        "outputId": "bc27ff72-c226-425a-b1a9-99eab233e9fb"
      },
      "source": [
        "for images, labels in test_loader:\r\n",
        "    break\r\n",
        "    \r\n",
        "fig, ax = plt.subplots(1, 5)\r\n",
        "for i in range(5):\r\n",
        "    ax[i].imshow(images[i].view(28, 28), cmap=matplotlib.cm.binary)\r\n",
        "\r\n",
        "plt.show()"
      ],
      "execution_count": null,
      "outputs": [
        {
          "output_type": "display_data",
          "data": {
            "image/png": "[encoded data removed]",
            "text/plain": [
              "<Figure size 432x288 with 5 Axes>"
            ]
          },
          "metadata": {
            "tags": [],
            "needs_background": "light"
          }
        }
      ]
    },
    {
      "cell_type": "code",
      "metadata": {
        "colab": {
          "base_uri": "https://localhost:8080/"
        },
        "id": "jcYYp3bCXaR2",
        "outputId": "889ddc67-b383-4808-9c50-cdb626dc347f"
      },
      "source": [
        "_, predictions = model.forward(images[:5].view(-1, 28*28).to(device))\r\n",
        "predictions = torch.argmax(predictions, dim=1)\r\n",
        "print('Predicted labels', predictions.cpu().numpy())"
      ],
      "execution_count": null,
      "outputs": [
        {
          "output_type": "stream",
          "text": [
            "Predicted labels [8 0 6 1 3]\n"
          ],
          "name": "stdout"
        }
      ]
    },
    {
      "cell_type": "markdown",
      "metadata": {
        "id": "QobDNIC1H83-"
      },
      "source": [
        "# Limitations/Problem faced during working\r\n",
        "\r\n",
        "NumtaDB is a combination of 5 sub dataset. When working with this dataset, in some cases image data index and csv file index is not matched and getting error. For this reason i have to use reduced dataset."
      ]
    },
    {
      "cell_type": "markdown",
      "metadata": {
        "id": "bdZvc6VrDiTx"
      },
      "source": [
        "# Conclusion\r\n",
        "\r\n",
        "From the above observation we can come to a conclusion that the models accuracy is comparatively lower in different hyperparameter settings. This is because the dataset is highly non linear dataset but our model is built with logistic regression which is a simple regression model which perform better in linear dataset. We might get better accuracy if we experiment on neural network model."
      ]
    }
  ]
}